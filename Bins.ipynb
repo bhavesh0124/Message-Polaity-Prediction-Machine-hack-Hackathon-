{
 "cells": [
  {
   "cell_type": "code",
   "execution_count": 107,
   "metadata": {
    "scrolled": true
   },
   "outputs": [],
   "source": [
    "import pandas as pd\n",
    "import numpy as np\n",
    "import matplotlib.pyplot as plt\n",
    "import seaborn as sns\n",
    "import warnings\n",
    "\n",
    "from xgboost import XGBClassifier\n",
    "\n",
    "from sklearn.metrics import f1_score, make_scorer\n",
    "import numpy as np # linear algebra\n",
    "import pandas as pd # data processing, CSV file I/O (e.g. pd.read_csv)\n",
    "from sklearn.model_selection import train_test_split\n",
    "from sklearn.metrics import mean_squared_error\n",
    "from operator import itemgetter\n",
    "import xgboost as xgb\n",
    "import random\n",
    "import time\n",
    "from sklearn.model_selection import GridSearchCV\n",
    "from sklearn.metrics import average_precision_score\n",
    "import matplotlib.pyplot as plt\n",
    "from numpy import genfromtxt\n",
    "import seaborn as sns\n",
    "from sklearn import preprocessing\n",
    "from sklearn.metrics import roc_curve, auc,recall_score,precision_score\n",
    "import datetime as dt\n",
    "\n",
    "import lightgbm as lgb\n",
    "warnings.filterwarnings('ignore')\n",
    "import numpy as np\n",
    "from sklearn.preprocessing import LabelEncoder"
   ]
  },
  {
   "cell_type": "code",
   "execution_count": 108,
   "metadata": {},
   "outputs": [],
   "source": [
    "df_train=pd.read_csv(\"Train.csv\")\n",
    "df_test=pd.read_csv(\"Test.csv\")\n",
    "#df_train.iloc[:,:-1]=df_train.iloc[:,:-1]+2\n",
    "#df_test=df_test+2"
   ]
  },
  {
   "cell_type": "code",
   "execution_count": 109,
   "metadata": {},
   "outputs": [],
   "source": [
    "unused=['Freq_Of_Word_1',\n",
    " 'Freq_Of_Word_4',\n",
    " 'Freq_Of_Word_15',\n",
    " 'Freq_Of_Word_26',\n",
    " 'Freq_Of_Word_30',\n",
    " 'Freq_Of_Word_31',\n",
    " 'Freq_Of_Word_35',\n",
    " 'Freq_Of_Word_38',\n",
    " 'Freq_Of_Word_39',\n",
    " 'Freq_Of_Word_41',\n",
    " 'Freq_Of_Word_43',\n",
    " 'Freq_Of_Word_44',\n",
    " 'Freq_Of_Word_47',\n",
    " 'Freq_Of_Word_48',\n",
    " 'Freq_Of_Word_32', \n",
    " 'Freq_Of_Word_40', \n",
    " 'Freq_Of_Word_34',\n",
    " \"Freq_Of_Word_8\",\n",
    " \"Freq_Of_Word_3\",\n",
    " \"Freq_Of_Word_13\",\n",
    " \"Freq_Of_Word_33\",\n",
    " \"Freq_Of_Word_46\",\n",
    " \"Freq_Of_Word_29\",\n",
    " \"Freq_Of_Word_17\",\n",
    " \"Freq_Of_Word_22\"]"
   ]
  },
  {
   "cell_type": "code",
   "execution_count": 110,
   "metadata": {},
   "outputs": [],
   "source": [
    "df_train.drop(unused,axis=1,inplace=True)\n",
    "df_test.drop(unused,axis=1,inplace=True)"
   ]
  },
  {
   "cell_type": "code",
   "execution_count": 111,
   "metadata": {},
   "outputs": [],
   "source": [
    "# df_train=df_train.sort_values(by='Freq_Of_Word_19')"
   ]
  },
  {
   "cell_type": "code",
   "execution_count": 112,
   "metadata": {
    "scrolled": true
   },
   "outputs": [],
   "source": [
    "#df_train.drop(df_train[df_train[\"IsGoodNews\"]==0].head(5).index,inplace=True)"
   ]
  },
  {
   "cell_type": "code",
   "execution_count": 113,
   "metadata": {},
   "outputs": [
    {
     "data": {
      "text/plain": [
       "(947, 29)"
      ]
     },
     "execution_count": 113,
     "metadata": {},
     "output_type": "execute_result"
    }
   ],
   "source": [
    "df_train.shape"
   ]
  },
  {
   "cell_type": "code",
   "execution_count": 114,
   "metadata": {},
   "outputs": [],
   "source": [
    "Y_train = df_train['IsGoodNews']\n",
    "X_train = df_train.drop('IsGoodNews', axis=1)"
   ]
  },
  {
   "cell_type": "code",
   "execution_count": 115,
   "metadata": {},
   "outputs": [],
   "source": [
    "from imblearn.over_sampling import SMOTE\n",
    "oversample = SMOTE()\n",
    "X, y = oversample.fit_resample(X_train,Y_train)"
   ]
  },
  {
   "cell_type": "code",
   "execution_count": 116,
   "metadata": {},
   "outputs": [],
   "source": [
    "import imblearn"
   ]
  },
  {
   "cell_type": "code",
   "execution_count": 117,
   "metadata": {},
   "outputs": [],
   "source": [
    "# from imblearn.under_sampling import NearMiss\n",
    "# undersample = NearMiss(version=1, n_neighbors=3)\n",
    "# X, y = undersample.fit_resample(X_train, Y_train)"
   ]
  },
  {
   "cell_type": "code",
   "execution_count": 118,
   "metadata": {},
   "outputs": [],
   "source": [
    "# from imblearn.over_sampling import RandomOverSampler\n",
    "# oversample = RandomOverSampler(sampling_strategy='minority')"
   ]
  },
  {
   "cell_type": "code",
   "execution_count": null,
   "metadata": {},
   "outputs": [],
   "source": []
  },
  {
   "cell_type": "code",
   "execution_count": 119,
   "metadata": {},
   "outputs": [],
   "source": [
    "# X_over, y_over = oversample.fit_resample(X_train,Y_train)"
   ]
  },
  {
   "cell_type": "code",
   "execution_count": 120,
   "metadata": {},
   "outputs": [
    {
     "data": {
      "text/plain": [
       "<matplotlib.axes._subplots.AxesSubplot at 0x7f47dd001cf8>"
      ]
     },
     "execution_count": 120,
     "metadata": {},
     "output_type": "execute_result"
    },
    {
     "data": {
      "image/png": "[encoded data removed]",
      "text/plain": [
       "<Figure size 432x288 with 1 Axes>"
      ]
     },
     "metadata": {
      "needs_background": "light"
     },
     "output_type": "display_data"
    }
   ],
   "source": [
    "sns.countplot(y)"
   ]
  },
  {
   "cell_type": "code",
   "execution_count": 121,
   "metadata": {},
   "outputs": [],
   "source": [
    "#df_train.drop_duplicates(inplace=True)"
   ]
  },
  {
   "cell_type": "code",
   "execution_count": 122,
   "metadata": {
    "scrolled": true
   },
   "outputs": [
    {
     "data": {
      "text/plain": [
       "(947, 29)"
      ]
     },
     "execution_count": 122,
     "metadata": {},
     "output_type": "execute_result"
    }
   ],
   "source": [
    "df_train.shape"
   ]
  },
  {
   "cell_type": "code",
   "execution_count": 123,
   "metadata": {},
   "outputs": [],
   "source": [
    "X_train, X_test, Y_train, Y_test = train_test_split(X,y,test_size=0.3,random_state=0)\n"
   ]
  },
  {
   "cell_type": "code",
   "execution_count": 124,
   "metadata": {},
   "outputs": [],
   "source": [
    "\n",
    "# X_train, X_test, Y_train, Y_test = train_test_split(df_train.drop(labels=['IsGoodNews'], axis=1),df_train['IsGoodNews'],test_size=0.3,random_state=0)\n"
   ]
  },
  {
   "cell_type": "code",
   "execution_count": 125,
   "metadata": {},
   "outputs": [],
   "source": [
    "from sklearn.metrics import f1_score\n",
    "from xgboost import XGBClassifier\n",
    "import xgboost as xgb\n",
    "from sklearn.model_selection import train_test_split\n",
    "from sklearn.neighbors import KNeighborsClassifier\n",
    "from sklearn.linear_model import LogisticRegression\n",
    "from sklearn.naive_bayes import GaussianNB\n",
    "from sklearn.tree import DecisionTreeClassifier\n",
    "from sklearn.ensemble import RandomForestClassifier\n",
    "from sklearn.ensemble import GradientBoostingClassifier\n",
    "from sklearn.svm import SVC\n",
    "from sklearn.svm import SVC, LinearSVC"
   ]
  },
  {
   "cell_type": "code",
   "execution_count": 126,
   "metadata": {},
   "outputs": [],
   "source": [
    "params={'gamma': 0.04,\n",
    "  'learning_rate': 0.4,\n",
    "  'max_depth': 8,\n",
    "  'min_child_weight': 0.1,\n",
    "  'n_estimators': 400,\n",
    "  'reg_alpha': 0.001}"
   ]
  },
  {
   "cell_type": "code",
   "execution_count": 154,
   "metadata": {},
   "outputs": [
    {
     "data": {
      "text/plain": [
       "RandomForestClassifier(bootstrap=True, ccp_alpha=0.0, class_weight=None,\n",
       "                       criterion='gini', max_depth=None, max_features='auto',\n",
       "                       max_leaf_nodes=None, max_samples=None,\n",
       "                       min_impurity_decrease=0.0, min_impurity_split=None,\n",
       "                       min_samples_leaf=1, min_samples_split=2,\n",
       "                       min_weight_fraction_leaf=0.0, n_estimators=100,\n",
       "                       n_jobs=None, oob_score=False, random_state=None,\n",
       "                       verbose=0, warm_start=False)"
      ]
     },
     "execution_count": 154,
     "metadata": {},
     "output_type": "execute_result"
    }
   ],
   "source": [
    "rf=RandomForestClassifier()\n",
    "rf.fit(X_train,Y_train)"
   ]
  },
  {
   "cell_type": "code",
   "execution_count": 200,
   "metadata": {
    "scrolled": false
   },
   "outputs": [
    {
     "data": {
      "text/plain": [
       "XGBClassifier(base_score=0.5, booster=None, colsample_bylevel=1,\n",
       "              colsample_bynode=1, colsample_bytree=1, gamma=0.01, gpu_id=-1,\n",
       "              importance_type='gain', interaction_constraints=None,\n",
       "              learning_rate=0.3, max_delta_step=0, max_depth=6,\n",
       "              min_child_weight=1, missing=nan, monotone_constraints=None,\n",
       "              n_estimators=185, n_jobs=0, num_parallel_tree=1,\n",
       "              objective='binary:logistic', random_state=0, reg_alpha=0,\n",
       "              reg_lambda=1, scale_pos_weight=1, subsample=1, tree_method=None,\n",
       "              validate_parameters=False, verbosity=None)"
      ]
     },
     "execution_count": 200,
     "metadata": {},
     "output_type": "execute_result"
    }
   ],
   "source": [
    "rf = XGBClassifier(n_estimators=185,max_depth=6,gamma=0.01,learning_rate=0.3,base_score=0.5)\n",
    "rf.fit(X,y)"
   ]
  },
  {
   "cell_type": "code",
   "execution_count": 197,
   "metadata": {},
   "outputs": [
    {
     "name": "stdout",
     "output_type": "stream",
     "text": [
      "F1 score 1.0\n",
      "Accuracy Score = 100.0\n"
     ]
    }
   ],
   "source": [
    "predictions = rf.predict(X_test)\n",
    "print(\"F1 score \" + f1_score(Y_test, predictions).astype(str))\n",
    "score=round(rf.score(X_test, Y_test) * 100, 2)\n",
    "print(\"Accuracy Score = \"+score.astype(str))\n"
   ]
  },
  {
   "cell_type": "code",
   "execution_count": 519,
   "metadata": {},
   "outputs": [
    {
     "data": {
      "text/plain": [
       "<matplotlib.axes._subplots.AxesSubplot at 0x7f8ee13ceac8>"
      ]
     },
     "execution_count": 519,
     "metadata": {},
     "output_type": "execute_result"
    },
    {
     "data": {
      "image/png": "[encoded data removed]",
      "text/plain": [
       "<Figure size 432x288 with 1 Axes>"
      ]
     },
     "metadata": {
      "needs_background": "light"
     },
     "output_type": "display_data"
    }
   ],
   "source": [
    "from xgboost import plot_importance\n",
    "plot_importance(rf)"
   ]
  },
  {
   "cell_type": "code",
   "execution_count": 242,
   "metadata": {},
   "outputs": [],
   "source": [
    "Y_train = df_train['IsGoodNews']\n",
    "X_train = df_train.drop('IsGoodNews', axis=1)"
   ]
  },
  {
   "cell_type": "code",
   "execution_count": 53,
   "metadata": {},
   "outputs": [
    {
     "data": {
      "text/plain": [
       "{'gamma': 0.04,\n",
       " 'learning_rate': 0.4,\n",
       " 'max_depth': 5,\n",
       " 'min_child_weight': 0.3,\n",
       " 'n_estimators': 170}"
      ]
     },
     "execution_count": 53,
     "metadata": {},
     "output_type": "execute_result"
    }
   ],
   "source": [
    "{'gamma': 0.04,\n",
    "  'learning_rate': 0.4,\n",
    "  'max_depth': 5,\n",
    "  'min_child_weight': 0.3,\n",
    "  'n_estimators': 170}"
   ]
  },
  {
   "cell_type": "code",
   "execution_count": 831,
   "metadata": {},
   "outputs": [],
   "source": [
    "params={'n_estimators': [40],\n",
    "        'learning_rate' :[0.4],\n",
    "         'max_depth':[5],\n",
    "         'reg_alpha':[0.001],\n",
    "         #'reg_alpha':[0, 0.001, 0.005, 0.01, 0.05],\n",
    "         'min_child_weight':[0.3],\n",
    "         'gamma':[0.04]\n",
    "       }"
   ]
  },
  {
   "cell_type": "code",
   "execution_count": 832,
   "metadata": {
    "scrolled": true
   },
   "outputs": [
    {
     "name": "stdout",
     "output_type": "stream",
     "text": [
      "Fitting 3 folds for each of 1 candidates, totalling 3 fits\n"
     ]
    },
    {
     "name": "stderr",
     "output_type": "stream",
     "text": [
      "[Parallel(n_jobs=4)]: Using backend LokyBackend with 4 concurrent workers.\n",
      "[Parallel(n_jobs=4)]: Done   3 out of   3 | elapsed:    1.2s finished\n"
     ]
    },
    {
     "data": {
      "text/plain": [
       "(0.9256900212314226,\n",
       " {'gamma': 0.04,\n",
       "  'learning_rate': 0.4,\n",
       "  'max_depth': 5,\n",
       "  'min_child_weight': 0.3,\n",
       "  'n_estimators': 40,\n",
       "  'reg_alpha': 0.001})"
      ]
     },
     "execution_count": 832,
     "metadata": {},
     "output_type": "execute_result"
    }
   ],
   "source": [
    "rf = XGBClassifier() \n",
    "clf = GridSearchCV(rf,params,\n",
    "                    cv=3,\n",
    "                    verbose=1, \n",
    "                    scoring='accuracy',\n",
    "                    n_jobs=4\n",
    "                  )\n",
    "\n",
    "clf.fit(X_train,Y_train)\n",
    "clf.best_score_, clf.best_params_"
   ]
  },
  {
   "cell_type": "code",
   "execution_count": 198,
   "metadata": {},
   "outputs": [],
   "source": [
    "rf = XGBClassifier() \n",
    "rf.fit(X,y)\n",
    "predictions=rf.predict(df_test)"
   ]
  },
  {
   "cell_type": "code",
   "execution_count": 201,
   "metadata": {},
   "outputs": [],
   "source": [
    "submission=pd.DataFrame(predictions,columns=[\"IsGoodNews\"])\n",
    "submission.IsGoodNews=submission.IsGoodNews.astype(int)\n",
    "submission.to_excel(\"submission.xlsx\")"
   ]
  },
  {
   "cell_type": "code",
   "execution_count": 835,
   "metadata": {},
   "outputs": [],
   "source": [
    "final_params={'gamma': 0.04,\n",
    "  'learning_rate': 0.4,\n",
    "  'max_depth': 5,\n",
    "  'min_child_weight': 0.3,\n",
    "  'n_estimators': 40,\n",
    "  'reg_alpha': 0.001}"
   ]
  },
  {
   "cell_type": "code",
   "execution_count": 341,
   "metadata": {},
   "outputs": [],
   "source": [
    "X_test[\"predictions\"]=predictions\n",
    "X_test[\"Actual_values\"]=Y_test"
   ]
  },
  {
   "cell_type": "code",
   "execution_count": 342,
   "metadata": {},
   "outputs": [
    {
     "data": {
      "text/html": [
       "<div>\n",
       "<style scoped>\n",
       "    .dataframe tbody tr th:only-of-type {\n",
       "        vertical-align: middle;\n",
       "    }\n",
       "\n",
       "    .dataframe tbody tr th {\n",
       "        vertical-align: top;\n",
       "    }\n",
       "\n",
       "    .dataframe thead th {\n",
       "        text-align: right;\n",
       "    }\n",
       "</style>\n",
       "<table border=\"1\" class=\"dataframe\">\n",
       "  <thead>\n",
       "    <tr style=\"text-align: right;\">\n",
       "      <th></th>\n",
       "      <th>Freq_Of_Word_2</th>\n",
       "      <th>Freq_Of_Word_5</th>\n",
       "      <th>Freq_Of_Word_6</th>\n",
       "      <th>Freq_Of_Word_7</th>\n",
       "      <th>Freq_Of_Word_9</th>\n",
       "      <th>Freq_Of_Word_10</th>\n",
       "      <th>Freq_Of_Word_11</th>\n",
       "      <th>Freq_Of_Word_12</th>\n",
       "      <th>Freq_Of_Word_14</th>\n",
       "      <th>Freq_Of_Word_16</th>\n",
       "      <th>...</th>\n",
       "      <th>Freq_Of_Word_37</th>\n",
       "      <th>Freq_Of_Word_42</th>\n",
       "      <th>Freq_Of_Word_45</th>\n",
       "      <th>Freq_Of_Word_49</th>\n",
       "      <th>Freq_Of_Word_50</th>\n",
       "      <th>TotalEmojiCharacters</th>\n",
       "      <th>LengthOFFirstParagraph</th>\n",
       "      <th>StylizedLetters</th>\n",
       "      <th>predictions</th>\n",
       "      <th>Actual_values</th>\n",
       "    </tr>\n",
       "  </thead>\n",
       "  <tbody>\n",
       "    <tr>\n",
       "      <th>499</th>\n",
       "      <td>-0.318036</td>\n",
       "      <td>-0.465210</td>\n",
       "      <td>-0.353977</td>\n",
       "      <td>-0.304257</td>\n",
       "      <td>-0.318797</td>\n",
       "      <td>-0.352968</td>\n",
       "      <td>-0.320591</td>\n",
       "      <td>0.011954</td>\n",
       "      <td>-0.184379</td>\n",
       "      <td>0.432655</td>\n",
       "      <td>...</td>\n",
       "      <td>-0.329374</td>\n",
       "      <td>-0.168998</td>\n",
       "      <td>-0.323019</td>\n",
       "      <td>-0.151911</td>\n",
       "      <td>0.087105</td>\n",
       "      <td>-0.107383</td>\n",
       "      <td>-0.160186</td>\n",
       "      <td>-0.312539</td>\n",
       "      <td>0</td>\n",
       "      <td>1</td>\n",
       "    </tr>\n",
       "    <tr>\n",
       "      <th>524</th>\n",
       "      <td>-0.318036</td>\n",
       "      <td>-0.465210</td>\n",
       "      <td>-0.353977</td>\n",
       "      <td>-0.304257</td>\n",
       "      <td>-0.318797</td>\n",
       "      <td>-0.352968</td>\n",
       "      <td>-0.320591</td>\n",
       "      <td>0.154550</td>\n",
       "      <td>-0.184379</td>\n",
       "      <td>-0.333610</td>\n",
       "      <td>...</td>\n",
       "      <td>-0.329374</td>\n",
       "      <td>-0.168998</td>\n",
       "      <td>-0.323019</td>\n",
       "      <td>-0.151911</td>\n",
       "      <td>0.114606</td>\n",
       "      <td>-0.081172</td>\n",
       "      <td>-0.073922</td>\n",
       "      <td>-0.092083</td>\n",
       "      <td>0</td>\n",
       "      <td>1</td>\n",
       "    </tr>\n",
       "    <tr>\n",
       "      <th>101</th>\n",
       "      <td>1.043044</td>\n",
       "      <td>0.164498</td>\n",
       "      <td>-0.353977</td>\n",
       "      <td>-0.304257</td>\n",
       "      <td>-0.318797</td>\n",
       "      <td>0.262524</td>\n",
       "      <td>-0.320591</td>\n",
       "      <td>-0.152581</td>\n",
       "      <td>-0.184379</td>\n",
       "      <td>-0.333610</td>\n",
       "      <td>...</td>\n",
       "      <td>-0.329374</td>\n",
       "      <td>-0.168998</td>\n",
       "      <td>-0.323019</td>\n",
       "      <td>15.146785</td>\n",
       "      <td>-0.453742</td>\n",
       "      <td>0.049881</td>\n",
       "      <td>-0.054316</td>\n",
       "      <td>0.031484</td>\n",
       "      <td>1</td>\n",
       "      <td>0</td>\n",
       "    </tr>\n",
       "    <tr>\n",
       "      <th>501</th>\n",
       "      <td>-0.318036</td>\n",
       "      <td>-0.465210</td>\n",
       "      <td>-0.353977</td>\n",
       "      <td>-0.304257</td>\n",
       "      <td>-0.318797</td>\n",
       "      <td>-0.352968</td>\n",
       "      <td>-0.320591</td>\n",
       "      <td>-0.635215</td>\n",
       "      <td>-0.184379</td>\n",
       "      <td>-0.333610</td>\n",
       "      <td>...</td>\n",
       "      <td>-0.329374</td>\n",
       "      <td>-0.168998</td>\n",
       "      <td>-0.323019</td>\n",
       "      <td>-0.151911</td>\n",
       "      <td>-0.453742</td>\n",
       "      <td>-0.107383</td>\n",
       "      <td>-0.195476</td>\n",
       "      <td>-0.408024</td>\n",
       "      <td>1</td>\n",
       "      <td>0</td>\n",
       "    </tr>\n",
       "    <tr>\n",
       "      <th>363</th>\n",
       "      <td>-0.318036</td>\n",
       "      <td>1.667209</td>\n",
       "      <td>-0.353977</td>\n",
       "      <td>-0.304257</td>\n",
       "      <td>-0.318797</td>\n",
       "      <td>-0.352968</td>\n",
       "      <td>-0.320591</td>\n",
       "      <td>-0.635215</td>\n",
       "      <td>-0.184379</td>\n",
       "      <td>3.536675</td>\n",
       "      <td>...</td>\n",
       "      <td>-0.329374</td>\n",
       "      <td>-0.168998</td>\n",
       "      <td>-0.323019</td>\n",
       "      <td>-0.151911</td>\n",
       "      <td>-0.453742</td>\n",
       "      <td>-0.107383</td>\n",
       "      <td>-0.215081</td>\n",
       "      <td>-0.413640</td>\n",
       "      <td>0</td>\n",
       "      <td>1</td>\n",
       "    </tr>\n",
       "    <tr>\n",
       "      <th>874</th>\n",
       "      <td>-0.318036</td>\n",
       "      <td>-0.465210</td>\n",
       "      <td>-0.353977</td>\n",
       "      <td>-0.304257</td>\n",
       "      <td>-0.318797</td>\n",
       "      <td>0.444374</td>\n",
       "      <td>-0.320591</td>\n",
       "      <td>-0.635215</td>\n",
       "      <td>-0.184379</td>\n",
       "      <td>0.406679</td>\n",
       "      <td>...</td>\n",
       "      <td>-0.329374</td>\n",
       "      <td>-0.168998</td>\n",
       "      <td>0.746815</td>\n",
       "      <td>-0.151911</td>\n",
       "      <td>2.112993</td>\n",
       "      <td>-0.054961</td>\n",
       "      <td>-0.101369</td>\n",
       "      <td>-0.247947</td>\n",
       "      <td>1</td>\n",
       "      <td>0</td>\n",
       "    </tr>\n",
       "    <tr>\n",
       "      <th>651</th>\n",
       "      <td>2.373191</td>\n",
       "      <td>-0.465210</td>\n",
       "      <td>-0.353977</td>\n",
       "      <td>-0.304257</td>\n",
       "      <td>-0.318797</td>\n",
       "      <td>0.864028</td>\n",
       "      <td>-0.320591</td>\n",
       "      <td>0.319085</td>\n",
       "      <td>-0.184379</td>\n",
       "      <td>-0.333610</td>\n",
       "      <td>...</td>\n",
       "      <td>-0.329374</td>\n",
       "      <td>-0.168998</td>\n",
       "      <td>0.493434</td>\n",
       "      <td>-0.151911</td>\n",
       "      <td>-0.453742</td>\n",
       "      <td>-0.081172</td>\n",
       "      <td>-0.140580</td>\n",
       "      <td>-0.363090</td>\n",
       "      <td>1</td>\n",
       "      <td>0</td>\n",
       "    </tr>\n",
       "    <tr>\n",
       "      <th>916</th>\n",
       "      <td>-0.318036</td>\n",
       "      <td>-0.465210</td>\n",
       "      <td>-0.353977</td>\n",
       "      <td>-0.304257</td>\n",
       "      <td>18.826505</td>\n",
       "      <td>-0.352968</td>\n",
       "      <td>-0.320591</td>\n",
       "      <td>-0.635215</td>\n",
       "      <td>-0.184379</td>\n",
       "      <td>-0.333610</td>\n",
       "      <td>...</td>\n",
       "      <td>-0.329374</td>\n",
       "      <td>-0.168998</td>\n",
       "      <td>-0.323019</td>\n",
       "      <td>-0.151911</td>\n",
       "      <td>-0.453742</td>\n",
       "      <td>-0.081172</td>\n",
       "      <td>-0.179792</td>\n",
       "      <td>-0.379940</td>\n",
       "      <td>1</td>\n",
       "      <td>0</td>\n",
       "    </tr>\n",
       "    <tr>\n",
       "      <th>240</th>\n",
       "      <td>-0.318036</td>\n",
       "      <td>-0.465210</td>\n",
       "      <td>-0.353977</td>\n",
       "      <td>-0.304257</td>\n",
       "      <td>-0.318797</td>\n",
       "      <td>-0.352968</td>\n",
       "      <td>-0.320591</td>\n",
       "      <td>-0.635215</td>\n",
       "      <td>-0.184379</td>\n",
       "      <td>-0.333610</td>\n",
       "      <td>...</td>\n",
       "      <td>-0.329374</td>\n",
       "      <td>-0.168998</td>\n",
       "      <td>-0.323019</td>\n",
       "      <td>-0.151911</td>\n",
       "      <td>0.322389</td>\n",
       "      <td>-0.107383</td>\n",
       "      <td>-0.113133</td>\n",
       "      <td>-0.214247</td>\n",
       "      <td>0</td>\n",
       "      <td>1</td>\n",
       "    </tr>\n",
       "    <tr>\n",
       "      <th>571</th>\n",
       "      <td>-0.318036</td>\n",
       "      <td>-0.465210</td>\n",
       "      <td>-0.353977</td>\n",
       "      <td>-0.304257</td>\n",
       "      <td>-0.318797</td>\n",
       "      <td>-0.352968</td>\n",
       "      <td>-0.320591</td>\n",
       "      <td>-0.635215</td>\n",
       "      <td>-0.184379</td>\n",
       "      <td>-0.333610</td>\n",
       "      <td>...</td>\n",
       "      <td>-0.329374</td>\n",
       "      <td>-0.168998</td>\n",
       "      <td>4.885384</td>\n",
       "      <td>-0.151911</td>\n",
       "      <td>-0.453742</td>\n",
       "      <td>-0.107383</td>\n",
       "      <td>-0.219003</td>\n",
       "      <td>-0.423470</td>\n",
       "      <td>0</td>\n",
       "      <td>1</td>\n",
       "    </tr>\n",
       "    <tr>\n",
       "      <th>304</th>\n",
       "      <td>-0.318036</td>\n",
       "      <td>-0.322094</td>\n",
       "      <td>-0.007344</td>\n",
       "      <td>0.155993</td>\n",
       "      <td>0.045182</td>\n",
       "      <td>-0.352968</td>\n",
       "      <td>-0.320591</td>\n",
       "      <td>-0.415836</td>\n",
       "      <td>0.428857</td>\n",
       "      <td>-0.333610</td>\n",
       "      <td>...</td>\n",
       "      <td>-0.329374</td>\n",
       "      <td>-0.168998</td>\n",
       "      <td>-0.323019</td>\n",
       "      <td>-0.106369</td>\n",
       "      <td>-0.157346</td>\n",
       "      <td>-0.081172</td>\n",
       "      <td>-0.136659</td>\n",
       "      <td>0.164881</td>\n",
       "      <td>1</td>\n",
       "      <td>0</td>\n",
       "    </tr>\n",
       "    <tr>\n",
       "      <th>689</th>\n",
       "      <td>-0.318036</td>\n",
       "      <td>-0.465210</td>\n",
       "      <td>-0.353977</td>\n",
       "      <td>-0.304257</td>\n",
       "      <td>-0.318797</td>\n",
       "      <td>-0.352968</td>\n",
       "      <td>-0.320591</td>\n",
       "      <td>-0.635215</td>\n",
       "      <td>-0.184379</td>\n",
       "      <td>-0.333610</td>\n",
       "      <td>...</td>\n",
       "      <td>-0.329374</td>\n",
       "      <td>-0.168998</td>\n",
       "      <td>-0.323019</td>\n",
       "      <td>-0.151911</td>\n",
       "      <td>-0.453742</td>\n",
       "      <td>-0.107383</td>\n",
       "      <td>-0.219003</td>\n",
       "      <td>-0.426278</td>\n",
       "      <td>0</td>\n",
       "      <td>1</td>\n",
       "    </tr>\n",
       "    <tr>\n",
       "      <th>605</th>\n",
       "      <td>-0.318036</td>\n",
       "      <td>-0.465210</td>\n",
       "      <td>-0.353977</td>\n",
       "      <td>-0.304257</td>\n",
       "      <td>-0.318797</td>\n",
       "      <td>-0.352968</td>\n",
       "      <td>-0.320591</td>\n",
       "      <td>-0.635215</td>\n",
       "      <td>-0.184379</td>\n",
       "      <td>-0.333610</td>\n",
       "      <td>...</td>\n",
       "      <td>-0.329374</td>\n",
       "      <td>-0.168998</td>\n",
       "      <td>-0.323019</td>\n",
       "      <td>-0.151911</td>\n",
       "      <td>0.692121</td>\n",
       "      <td>-0.028751</td>\n",
       "      <td>-0.070001</td>\n",
       "      <td>-0.132805</td>\n",
       "      <td>0</td>\n",
       "      <td>1</td>\n",
       "    </tr>\n",
       "    <tr>\n",
       "      <th>172</th>\n",
       "      <td>-0.318036</td>\n",
       "      <td>-0.465210</td>\n",
       "      <td>-0.353977</td>\n",
       "      <td>-0.304257</td>\n",
       "      <td>-0.318797</td>\n",
       "      <td>-0.352968</td>\n",
       "      <td>-0.320591</td>\n",
       "      <td>2.534815</td>\n",
       "      <td>-0.184379</td>\n",
       "      <td>1.536595</td>\n",
       "      <td>...</td>\n",
       "      <td>-0.329374</td>\n",
       "      <td>-0.168998</td>\n",
       "      <td>-0.323019</td>\n",
       "      <td>-0.151911</td>\n",
       "      <td>-0.453742</td>\n",
       "      <td>-0.107383</td>\n",
       "      <td>-0.211160</td>\n",
       "      <td>-0.399599</td>\n",
       "      <td>0</td>\n",
       "      <td>1</td>\n",
       "    </tr>\n",
       "    <tr>\n",
       "      <th>769</th>\n",
       "      <td>-0.318036</td>\n",
       "      <td>0.164498</td>\n",
       "      <td>-0.353977</td>\n",
       "      <td>-0.304257</td>\n",
       "      <td>-0.318797</td>\n",
       "      <td>0.878017</td>\n",
       "      <td>-0.320591</td>\n",
       "      <td>-0.635215</td>\n",
       "      <td>-0.184379</td>\n",
       "      <td>0.237842</td>\n",
       "      <td>...</td>\n",
       "      <td>-0.329374</td>\n",
       "      <td>-0.168998</td>\n",
       "      <td>-0.323019</td>\n",
       "      <td>-0.151911</td>\n",
       "      <td>-0.453742</td>\n",
       "      <td>-0.107383</td>\n",
       "      <td>-0.183713</td>\n",
       "      <td>-0.167909</td>\n",
       "      <td>0</td>\n",
       "      <td>1</td>\n",
       "    </tr>\n",
       "  </tbody>\n",
       "</table>\n",
       "<p>15 rows × 30 columns</p>\n",
       "</div>"
      ],
      "text/plain": [
       "     Freq_Of_Word_2  Freq_Of_Word_5  Freq_Of_Word_6  Freq_Of_Word_7  \\\n",
       "499       -0.318036       -0.465210       -0.353977       -0.304257   \n",
       "524       -0.318036       -0.465210       -0.353977       -0.304257   \n",
       "101        1.043044        0.164498       -0.353977       -0.304257   \n",
       "501       -0.318036       -0.465210       -0.353977       -0.304257   \n",
       "363       -0.318036        1.667209       -0.353977       -0.304257   \n",
       "874       -0.318036       -0.465210       -0.353977       -0.304257   \n",
       "651        2.373191       -0.465210       -0.353977       -0.304257   \n",
       "916       -0.318036       -0.465210       -0.353977       -0.304257   \n",
       "240       -0.318036       -0.465210       -0.353977       -0.304257   \n",
       "571       -0.318036       -0.465210       -0.353977       -0.304257   \n",
       "304       -0.318036       -0.322094       -0.007344        0.155993   \n",
       "689       -0.318036       -0.465210       -0.353977       -0.304257   \n",
       "605       -0.318036       -0.465210       -0.353977       -0.304257   \n",
       "172       -0.318036       -0.465210       -0.353977       -0.304257   \n",
       "769       -0.318036        0.164498       -0.353977       -0.304257   \n",
       "\n",
       "     Freq_Of_Word_9  Freq_Of_Word_10  Freq_Of_Word_11  Freq_Of_Word_12  \\\n",
       "499       -0.318797        -0.352968        -0.320591         0.011954   \n",
       "524       -0.318797        -0.352968        -0.320591         0.154550   \n",
       "101       -0.318797         0.262524        -0.320591        -0.152581   \n",
       "501       -0.318797        -0.352968        -0.320591        -0.635215   \n",
       "363       -0.318797        -0.352968        -0.320591        -0.635215   \n",
       "874       -0.318797         0.444374        -0.320591        -0.635215   \n",
       "651       -0.318797         0.864028        -0.320591         0.319085   \n",
       "916       18.826505        -0.352968        -0.320591        -0.635215   \n",
       "240       -0.318797        -0.352968        -0.320591        -0.635215   \n",
       "571       -0.318797        -0.352968        -0.320591        -0.635215   \n",
       "304        0.045182        -0.352968        -0.320591        -0.415836   \n",
       "689       -0.318797        -0.352968        -0.320591        -0.635215   \n",
       "605       -0.318797        -0.352968        -0.320591        -0.635215   \n",
       "172       -0.318797        -0.352968        -0.320591         2.534815   \n",
       "769       -0.318797         0.878017        -0.320591        -0.635215   \n",
       "\n",
       "     Freq_Of_Word_14  Freq_Of_Word_16  ...  Freq_Of_Word_37  Freq_Of_Word_42  \\\n",
       "499        -0.184379         0.432655  ...        -0.329374        -0.168998   \n",
       "524        -0.184379        -0.333610  ...        -0.329374        -0.168998   \n",
       "101        -0.184379        -0.333610  ...        -0.329374        -0.168998   \n",
       "501        -0.184379        -0.333610  ...        -0.329374        -0.168998   \n",
       "363        -0.184379         3.536675  ...        -0.329374        -0.168998   \n",
       "874        -0.184379         0.406679  ...        -0.329374        -0.168998   \n",
       "651        -0.184379        -0.333610  ...        -0.329374        -0.168998   \n",
       "916        -0.184379        -0.333610  ...        -0.329374        -0.168998   \n",
       "240        -0.184379        -0.333610  ...        -0.329374        -0.168998   \n",
       "571        -0.184379        -0.333610  ...        -0.329374        -0.168998   \n",
       "304         0.428857        -0.333610  ...        -0.329374        -0.168998   \n",
       "689        -0.184379        -0.333610  ...        -0.329374        -0.168998   \n",
       "605        -0.184379        -0.333610  ...        -0.329374        -0.168998   \n",
       "172        -0.184379         1.536595  ...        -0.329374        -0.168998   \n",
       "769        -0.184379         0.237842  ...        -0.329374        -0.168998   \n",
       "\n",
       "     Freq_Of_Word_45  Freq_Of_Word_49  Freq_Of_Word_50  TotalEmojiCharacters  \\\n",
       "499        -0.323019        -0.151911         0.087105             -0.107383   \n",
       "524        -0.323019        -0.151911         0.114606             -0.081172   \n",
       "101        -0.323019        15.146785        -0.453742              0.049881   \n",
       "501        -0.323019        -0.151911        -0.453742             -0.107383   \n",
       "363        -0.323019        -0.151911        -0.453742             -0.107383   \n",
       "874         0.746815        -0.151911         2.112993             -0.054961   \n",
       "651         0.493434        -0.151911        -0.453742             -0.081172   \n",
       "916        -0.323019        -0.151911        -0.453742             -0.081172   \n",
       "240        -0.323019        -0.151911         0.322389             -0.107383   \n",
       "571         4.885384        -0.151911        -0.453742             -0.107383   \n",
       "304        -0.323019        -0.106369        -0.157346             -0.081172   \n",
       "689        -0.323019        -0.151911        -0.453742             -0.107383   \n",
       "605        -0.323019        -0.151911         0.692121             -0.028751   \n",
       "172        -0.323019        -0.151911        -0.453742             -0.107383   \n",
       "769        -0.323019        -0.151911        -0.453742             -0.107383   \n",
       "\n",
       "     LengthOFFirstParagraph  StylizedLetters  predictions  Actual_values  \n",
       "499               -0.160186        -0.312539            0              1  \n",
       "524               -0.073922        -0.092083            0              1  \n",
       "101               -0.054316         0.031484            1              0  \n",
       "501               -0.195476        -0.408024            1              0  \n",
       "363               -0.215081        -0.413640            0              1  \n",
       "874               -0.101369        -0.247947            1              0  \n",
       "651               -0.140580        -0.363090            1              0  \n",
       "916               -0.179792        -0.379940            1              0  \n",
       "240               -0.113133        -0.214247            0              1  \n",
       "571               -0.219003        -0.423470            0              1  \n",
       "304               -0.136659         0.164881            1              0  \n",
       "689               -0.219003        -0.426278            0              1  \n",
       "605               -0.070001        -0.132805            0              1  \n",
       "172               -0.211160        -0.399599            0              1  \n",
       "769               -0.183713        -0.167909            0              1  \n",
       "\n",
       "[15 rows x 30 columns]"
      ]
     },
     "execution_count": 342,
     "metadata": {},
     "output_type": "execute_result"
    }
   ],
   "source": [
    "X_test[X_test[\"Actual_values\"]!=X_test[\"predictions\"]]"
   ]
  },
  {
   "cell_type": "code",
   "execution_count": 226,
   "metadata": {},
   "outputs": [
    {
     "data": {
      "text/html": [
       "<div>\n",
       "<style scoped>\n",
       "    .dataframe tbody tr th:only-of-type {\n",
       "        vertical-align: middle;\n",
       "    }\n",
       "\n",
       "    .dataframe tbody tr th {\n",
       "        vertical-align: top;\n",
       "    }\n",
       "\n",
       "    .dataframe thead th {\n",
       "        text-align: right;\n",
       "    }\n",
       "</style>\n",
       "<table border=\"1\" class=\"dataframe\">\n",
       "  <thead>\n",
       "    <tr style=\"text-align: right;\">\n",
       "      <th></th>\n",
       "      <th></th>\n",
       "      <th>IsGoodNews</th>\n",
       "    </tr>\n",
       "    <tr>\n",
       "      <th>LengthOFFirstParagraph</th>\n",
       "      <th>IsGoodNews</th>\n",
       "      <th></th>\n",
       "    </tr>\n",
       "  </thead>\n",
       "  <tbody>\n",
       "    <tr>\n",
       "      <th rowspan=\"2\" valign=\"top\">1.780997</th>\n",
       "      <th>0</th>\n",
       "      <td>57</td>\n",
       "    </tr>\n",
       "    <tr>\n",
       "      <th>1</th>\n",
       "      <td>4</td>\n",
       "    </tr>\n",
       "    <tr>\n",
       "      <th rowspan=\"2\" valign=\"top\">1.784919</th>\n",
       "      <th>0</th>\n",
       "      <td>13</td>\n",
       "    </tr>\n",
       "    <tr>\n",
       "      <th>1</th>\n",
       "      <td>2</td>\n",
       "    </tr>\n",
       "    <tr>\n",
       "      <th rowspan=\"2\" valign=\"top\">1.788840</th>\n",
       "      <th>0</th>\n",
       "      <td>31</td>\n",
       "    </tr>\n",
       "    <tr>\n",
       "      <th>1</th>\n",
       "      <td>4</td>\n",
       "    </tr>\n",
       "    <tr>\n",
       "      <th rowspan=\"2\" valign=\"top\">1.792761</th>\n",
       "      <th>0</th>\n",
       "      <td>44</td>\n",
       "    </tr>\n",
       "    <tr>\n",
       "      <th>1</th>\n",
       "      <td>4</td>\n",
       "    </tr>\n",
       "    <tr>\n",
       "      <th rowspan=\"2\" valign=\"top\">1.796682</th>\n",
       "      <th>0</th>\n",
       "      <td>40</td>\n",
       "    </tr>\n",
       "    <tr>\n",
       "      <th>1</th>\n",
       "      <td>5</td>\n",
       "    </tr>\n",
       "  </tbody>\n",
       "</table>\n",
       "</div>"
      ],
      "text/plain": [
       "                                   IsGoodNews\n",
       "LengthOFFirstParagraph IsGoodNews            \n",
       "1.780997               0                   57\n",
       "                       1                    4\n",
       "1.784919               0                   13\n",
       "                       1                    2\n",
       "1.788840               0                   31\n",
       "                       1                    4\n",
       "1.792761               0                   44\n",
       "                       1                    4\n",
       "1.796682               0                   40\n",
       "                       1                    5"
      ]
     },
     "execution_count": 226,
     "metadata": {},
     "output_type": "execute_result"
    }
   ],
   "source": [
    "pd.DataFrame(df_train.groupby([\"LengthOFFirstParagraph\"])[\"IsGoodNews\"].value_counts()).head(10)"
   ]
  },
  {
   "cell_type": "code",
   "execution_count": null,
   "metadata": {},
   "outputs": [],
   "source": []
  }
 ],
 "metadata": {
  "kernelspec": {
   "display_name": "Python 3",
   "language": "python",
   "name": "python3"
  },
  "language_info": {
   "codemirror_mode": {
    "name": "ipython",
    "version": 3
   },
   "file_extension": ".py",
   "mimetype": "text/x-python",
   "name": "python",
   "nbconvert_exporter": "python",
   "pygments_lexer": "ipython3",
   "version": "3.6.9"
  }
 },
 "nbformat": 4,
 "nbformat_minor": 2
}
