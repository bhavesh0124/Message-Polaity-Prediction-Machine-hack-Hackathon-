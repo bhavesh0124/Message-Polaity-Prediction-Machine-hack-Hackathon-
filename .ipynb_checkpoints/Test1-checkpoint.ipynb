{
 "cells": [
  {
   "cell_type": "code",
   "execution_count": 381,
   "metadata": {},
   "outputs": [],
   "source": [
    "import pandas as pd\n",
    "import numpy as np\n",
    "import matplotlib.pyplot as plt\n",
    "import seaborn as sns\n",
    "import warnings\n",
    "import lightgbm as lgb\n",
    "warnings.filterwarnings('ignore')\n",
    "import numpy as np\n",
    "from sklearn.preprocessing import LabelEncoder"
   ]
  },
  {
   "cell_type": "code",
   "execution_count": 382,
   "metadata": {
    "scrolled": true
   },
   "outputs": [
    {
     "name": "stdout",
     "output_type": "stream",
     "text": [
      "prediction.xlsx\t\tsubmission\t Test1.ipynb  Test.csv\r\n",
      "Sample_Submission.xlsx\tsubmission.xlsx  Test2.ipynb  Train.csv\r\n"
     ]
    }
   ],
   "source": [
    "!ls"
   ]
  },
  {
   "cell_type": "code",
   "execution_count": 383,
   "metadata": {},
   "outputs": [],
   "source": [
    "df_train=pd.read_csv(\"Train.csv\")\n",
    "df_test=pd.read_csv(\"Test.csv\")"
   ]
  },
  {
   "cell_type": "code",
   "execution_count": 384,
   "metadata": {},
   "outputs": [
    {
     "data": {
      "text/plain": [
       "(947, 54)"
      ]
     },
     "execution_count": 384,
     "metadata": {},
     "output_type": "execute_result"
    }
   ],
   "source": [
    "df_train.shape"
   ]
  },
  {
   "cell_type": "code",
   "execution_count": 385,
   "metadata": {},
   "outputs": [],
   "source": [
    "combined=pd.concat([df_train,df_test])"
   ]
  },
  {
   "cell_type": "markdown",
   "metadata": {},
   "source": [
    "### Feature Selection"
   ]
  },
  {
   "cell_type": "code",
   "execution_count": 386,
   "metadata": {},
   "outputs": [
    {
     "data": {
      "text/plain": [
       "339"
      ]
     },
     "execution_count": 386,
     "metadata": {},
     "output_type": "execute_result"
    }
   ],
   "source": [
    "combined[\"Freq_Of_Word_4\"].idxmax(axis=1)\n",
    "#combined[\"Freq_Of_Word_4\"]."
   ]
  },
  {
   "cell_type": "code",
   "execution_count": 387,
   "metadata": {},
   "outputs": [],
   "source": [
    "from sklearn.feature_selection import VarianceThreshold\n",
    "from sklearn.metrics import roc_auc_score,classification_report,confusion_matrix\n",
    "from sklearn.ensemble import RandomForestClassifier"
   ]
  },
  {
   "cell_type": "code",
   "execution_count": 388,
   "metadata": {},
   "outputs": [
    {
     "data": {
      "text/plain": [
       "array([ 1.57384901e-01, -4.53742494e-01,  3.40723119e-01,  9.30461055e-01,\n",
       "        1.05439072e-01, -3.59017748e-01, -8.40104201e-02, -1.26789338e-01,\n",
       "       -1.75679529e-01,  1.51714335e+00,  9.97685069e-01,  1.07143261e-02,\n",
       "       -2.45959180e-01, -1.60401344e-01,  3.46834393e-01, -7.78991461e-02,\n",
       "       -1.39011886e-01, -1.32900612e-01, -2.94849371e-01, -9.92886049e-02,\n",
       "        2.69356359e+00, -2.28976806e-02, -3.46795200e-01,  1.13518873e+00,\n",
       "       -3.98741028e-01, -2.03180262e-01,  2.06275092e-01, -3.40683926e-01,\n",
       "        7.80734844e-01,  4.43263328e-02, -8.09547831e-02, -5.34540503e-02,\n",
       "        2.24608914e-01,  2.91832928e-01, -1.51234434e-01,  1.38880660e+00,\n",
       "        5.72951529e-01,  8.11291213e-01, -1.69568255e-01, -1.50822177e-03,\n",
       "        2.88301308e+00,  1.17661620e-01,  1.32939805e-01, -9.62329680e-02,\n",
       "       -3.31517015e-01, -3.83462844e-01,  3.07111113e-01,  7.37955926e-01,\n",
       "       -3.22350104e-01,  4.23225318e-01,  6.57157917e-02,  6.55453728e-01,\n",
       "       -3.86518481e-01,  4.10526787e+00, -1.97068988e-01, -5.03984134e-02,\n",
       "        2.24744059e+00,  4.60305218e-03,  4.50726050e-01, -2.55126091e-01,\n",
       "        1.65159138e+00,  3.21037850e-02, -1.45123160e-01, -3.10127556e-01,\n",
       "       -6.87322352e-02,  2.59925110e-02,  5.30172612e-01,  8.09939765e-02,\n",
       "       -2.76515549e-01,  5.36283886e-01, -2.18458447e-01,  9.45739240e-01,\n",
       "        4.47670413e-01,  1.54741521e-03,  3.65168215e-01,  1.97854454e+00,\n",
       "        1.11074364e+00,  1.91437616e+00, -2.61237365e-01,  8.84626501e-01,\n",
       "        4.59892961e-01,  4.73819698e-02, -3.43739563e-01, -2.91793734e-01,\n",
       "       -4.73427764e-02, -2.79571186e-01, -2.00124625e-01, -3.49850837e-01,\n",
       "        7.50178474e-01, -1.78735166e-01, -9.31773310e-02, -2.30680995e-01,\n",
       "        2.29368740e-02,  1.42547425e+00,  5.05727516e-01,  3.62112578e-01,\n",
       "        9.32165244e-02,  1.00074071e+00, -4.42871394e-02,  1.23772894e-01,\n",
       "        3.16278024e-01,  4.11002770e-01, -7.17878722e-02,  1.39051079e-01,\n",
       "       -2.39847906e-01,  2.18497640e-01, -1.17622427e-01,  6.34064269e-01,\n",
       "        9.73239973e-01, -1.02344242e-01,  8.81570864e-01, -1.35956249e-01,\n",
       "       -1.11511153e-01,  1.93270998e+00,  1.24213603e+00,  8.17402487e-01,\n",
       "        3.22389298e-01,  1.20241275e+00,  3.30163535e+00, -2.85682460e-01,\n",
       "        6.26601547e-02,  5.85174077e-01, -2.15402810e-01,  3.51594219e-02,\n",
       "       -2.70404276e-01,  2.15577148e+00, -2.97905008e-01,  4.29336592e-01,\n",
       "        2.09330729e-01,  5.65488807e-02,  1.16268947e+00,  1.41936297e+00,\n",
       "       -2.33736632e-01,  1.99687836e+00, -3.20645915e-02,  2.64332195e-01,\n",
       "       -3.37628289e-01, -4.01796665e-01,  1.48217990e-01, -3.77351570e-01,\n",
       "       -1.20678064e-01, -4.04852302e-01,  6.86010097e-01, -6.56765982e-02,\n",
       "        7.07399556e-01,  1.56708538e+01,  5.76007166e-01, -1.57345707e-01,\n",
       "        9.27405418e-01,  6.43231180e-01,  5.44974814e+00, -2.06235899e-01,\n",
       "        1.24824730e+00,  4.90449331e-01,  2.61276558e-01, -3.13183193e-01,\n",
       "        6.79898824e-01,  6.67676276e-01,  3.43608337e+00,  3.74335126e-01,\n",
       "        1.86854161e+00,  1.10463236e+00,  3.11829713e+00,  3.82150589e-02,\n",
       "        1.40714042e+00, -1.08455516e-01, -2.27625358e-01,  1.47742007e+00,\n",
       "       -2.49014817e-01,  3.31556208e-01, -3.00960645e-01,  9.51850514e-01,\n",
       "        1.84885634e-01,  2.52109647e-01,  1.45162353e-01,  1.40408479e+00,\n",
       "        8.63237042e-01,  7.79383396e-02,  5.97396625e-01,  9.62721614e-02,\n",
       "        7.48827026e-02, -1.42067523e-01,  3.19333661e-01, -1.23733701e-01,\n",
       "       -9.01216940e-02, -3.07071919e-01, -2.73459912e-01,  2.42942736e-01,\n",
       "       -1.67864066e-02,  2.73499106e-01,  5.21005701e-01,  1.89604234e+00,\n",
       "       -5.95653243e-02,  7.68512296e-01,  4.72115509e-01,  6.12674810e-01,\n",
       "       -3.71240296e-01,  5.69725474e+00,  2.27664551e-01, -2.67348639e-01,\n",
       "        2.88777291e-01,  1.97108182e-01,  5.14894427e-01,  8.20458124e-01,\n",
       "        1.69607449e-01,  1.98812371e-02,  1.00990762e+00, -3.04016282e-01,\n",
       "        1.51273627e-01,  2.88912436e+00,  1.60440538e-01,  3.89613311e-01,\n",
       "        1.20546838e+00,  4.04891496e-01,  2.30720188e-01,  1.58131173e+00,\n",
       "       -2.88738097e-01, -8.70660570e-02, -3.25405741e-01, -3.80407207e-01,\n",
       "        6.61565002e-01, -2.58181728e-01, -1.06751327e-02,  4.69059872e-01,\n",
       "        4.66004235e-01,  3.34611845e-01,  2.36831462e-01, -1.63456981e-01,\n",
       "        3.95724585e-01, -2.82626823e-01,  7.18270656e-02, -1.37307697e-02,\n",
       "        1.63631320e+00,  3.98780222e-01,  8.71052505e-02, -1.98420436e-02,\n",
       "        2.39887099e-01, -6.26209613e-02,  3.25444934e-01, -1.29844975e-01,\n",
       "        7.01288282e-01,  2.55165284e-01, -1.90957714e-01, -1.66512618e-01,\n",
       "        1.14605983e-01, -3.16238830e-01,  4.07947133e-01,  2.90481480e-02,\n",
       "        4.84473202e+00, -7.61949571e-03,  2.15442003e-01,  1.02383435e-01,\n",
       "        5.08783153e-01,  5.45450797e-01,  4.99616242e-01, -3.51202285e-02,\n",
       "       -2.59533176e-02, -3.19294467e-01,  2.58220921e-01,  1.78774360e-01,\n",
       "        1.35995442e-01, -1.48178797e-01,  9.76295610e-01,  1.66992520e+00,\n",
       "        8.02124302e-01,  1.08494709e-01, -2.09291536e-01,  1.94052545e-01,\n",
       "        6.92121371e-01,  1.90996908e-01,  3.09690767e+00,  7.41011563e-01,\n",
       "        1.61492374e+00,  8.40496135e-02,  1.11550346e-01,  5.04376068e-02,\n",
       "        2.95940401e+00,  3.43778756e-01, -3.55962111e-01,  6.87714286e-02,\n",
       "        6.89065734e-01,  2.32383152e+00, -3.28461378e-01,  1.59658992e+00,\n",
       "        1.87941271e-01,  8.93793412e-01,  1.72663086e-01,  1.03435271e+00,\n",
       "       -1.84846440e-01,  5.79062803e-01,  8.87682138e-01, -5.65096873e-02,\n",
       "        5.69895892e-01, -3.81758655e-02,  1.68256001e-02,  6.64620639e-01,\n",
       "        7.83790481e-01, -1.14566790e-01,  1.02824144e+00,  3.77390763e-01,\n",
       "        1.20717257e-01,  1.73103794e+00,  1.26828531e-01, -1.94013351e-01,\n",
       "        3.59056941e-01,  3.49890030e-01,  1.37699631e-02,  1.27574803e+00,\n",
       "        6.21841721e-01,  9.88518158e-01, -3.74295933e-01,  1.63496175e-01,\n",
       "        1.04046399e+00,  8.35736309e-01,  8.99904686e-01,  2.18327221e+00,\n",
       "        2.45998373e-01,  6.76843187e-01,  1.41019606e+00,  8.69348316e-01,\n",
       "        1.29102622e+00,  1.26963676e+00,  1.41325170e+00, -2.24569721e-01,\n",
       "        4.96560605e-01,  2.03354600e+00, -3.52906474e-01,  6.37119906e-01,\n",
       "        1.47130880e+00,  1.05268653e+00,  1.06490908e+00,  5.34932438e-02,\n",
       "       -2.36792269e-01,  7.25733378e-01,  2.11299256e+00,  7.92957392e-01,\n",
       "        1.77687250e+00,  1.64548011e+00, -2.90089545e-02, -1.81790803e-01,\n",
       "        3.23746697e+00,  1.55686664e+00,  4.81282420e-01,  3.04055476e-01,\n",
       "        2.21553277e-01,  8.08235576e-01,  1.14741128e+00,  9.48794877e-01,\n",
       "        4.56837324e-01,  1.15352255e+00,  7.47122837e-01,  2.12386366e-01,\n",
       "        9.01608875e-02,  1.13213310e+00,  6.46286817e-01,  1.29884168e-01,\n",
       "        3.56001304e-01,  1.60881246e+00,  1.18713456e+00, -1.72623892e-01,\n",
       "        2.85245671e+00,  1.00685198e+00,  3.71279489e-01,  4.53781687e-01,\n",
       "        5.42395160e-01, -1.87902077e-01,  1.25968830e+01,  1.65464702e+00,\n",
       "        1.81829997e-01,  8.26569398e-01,  1.09240982e+00, -2.52070454e-01,\n",
       "        5.27116975e-01, -2.12347173e-01,  9.93277984e-02,  1.75242740e+00,\n",
       "        3.10166750e-01,  7.04343919e-01,  4.14058407e-01,  2.94888565e-01,\n",
       "        1.09546545e+00,  7.56289748e-01,  1.34602768e+00,  8.96849049e-01,\n",
       "        1.81659578e+00,  1.11379927e+00,  2.33605406e+00,  4.87393694e-01,\n",
       "        2.04271291e+00,  5.66840255e-01,  1.31241568e+00,  9.18238508e-01,\n",
       "        1.42106716e-01,  1.55075536e+00,  2.20160604e+00,  1.54329264e-01,\n",
       "       -3.95685391e-01,  4.12706959e-02,  1.84715215e+00, -4.41519946e-01,\n",
       "        9.12127234e-01,  1.66551812e-01, -7.48435091e-02,  5.39339523e-01,\n",
       "        1.08935418e+00,  1.32158259e+00,  1.19019020e+00,  1.20852402e+00,\n",
       "       -4.56385874e-03,  5.88229714e-01,  6.15730447e-01,  4.78226783e-01,\n",
       "        1.66075829e+00,  1.96937763e+00,  1.25130294e+00,  7.44067200e-01,\n",
       "        1.63020192e+00,  6.31008632e-01,  7.65868916e-03,  2.76554743e-01,\n",
       "        7.71567933e-01,  4.41559140e-01,  4.35447866e-01,  5.91285351e-01,\n",
       "        1.23296912e+00])"
      ]
     },
     "execution_count": 388,
     "metadata": {},
     "output_type": "execute_result"
    }
   ],
   "source": [
    "combined['Freq_Of_Word_50'].unique()"
   ]
  },
  {
   "cell_type": "code",
   "execution_count": 389,
   "metadata": {
    "scrolled": true
   },
   "outputs": [
    {
     "data": {
      "text/plain": [
       "array([1.05019584, 1.10813495, 1.04009692, 1.16302118, 1.04499575,\n",
       "       1.11351481, 0.84384564, 0.97457712, 1.15050515, 1.02784015,\n",
       "       1.13897482, 0.99790038, 0.79057837, 1.05025953, 0.97731159,\n",
       "       0.77687699, 1.00270051, 0.99687213, 0.989891  , 1.07608848,\n",
       "       1.03037188, 0.9689125 , 0.89280485, 0.65123825, 0.9713756 ,\n",
       "       1.08543957, 1.09945962, 1.07171636, 1.03083154, 0.86484648,\n",
       "       0.58342768, 0.99954868, 1.08798099, 0.9999672 , 0.97579573,\n",
       "       1.00389159, 0.99471151, 1.41176971, 1.1054026 , 0.97384859,\n",
       "       1.19151115, 1.19369009, 0.97433373, 1.3358072 , 1.18685989,\n",
       "       1.11526707, 0.85729152, 1.2525901 , 1.11675375, 0.68814486,\n",
       "       1.14003084, 0.3122821 , 0.81258887, 0.23758905])"
      ]
     },
     "execution_count": 389,
     "metadata": {},
     "output_type": "execute_result"
    }
   ],
   "source": [
    "selector = VarianceThreshold()\n",
    "selector.fit_transform(combined)\n",
    "\n",
    "selector.variances_"
   ]
  },
  {
   "cell_type": "code",
   "execution_count": 390,
   "metadata": {},
   "outputs": [
    {
     "data": {
      "text/plain": [
       "array([ True,  True,  True, False,  True,  True,  True,  True,  True,\n",
       "        True,  True,  True,  True,  True,  True,  True,  True,  True,\n",
       "        True,  True,  True,  True,  True,  True,  True,  True,  True,\n",
       "        True,  True,  True,  True,  True,  True,  True,  True,  True,\n",
       "        True,  True,  True,  True,  True,  True,  True,  True,  True,\n",
       "        True,  True,  True,  True,  True,  True,  True,  True])"
      ]
     },
     "execution_count": 390,
     "metadata": {},
     "output_type": "execute_result"
    }
   ],
   "source": [
    "varModel=VarianceThreshold(threshold=(.8 * (1 - .8))) #Setting variance threshold to 0 which means features that have same value in all samples.\n",
    "varModel.fit(df_test)\n",
    "constArr=varModel.get_support()\n",
    "constArr"
   ]
  },
  {
   "cell_type": "code",
   "execution_count": 391,
   "metadata": {},
   "outputs": [
    {
     "data": {
      "text/plain": [
       "VarianceThreshold(threshold=0.15999999999999998)"
      ]
     },
     "execution_count": 391,
     "metadata": {},
     "output_type": "execute_result"
    }
   ],
   "source": [
    "quasiModel=VarianceThreshold(threshold=(.8 * (1 - .8)))\n",
    " #It will search for the features having 99% of same value in all samples.\n",
    "quasiModel.fit(combined)"
   ]
  },
  {
   "cell_type": "code",
   "execution_count": 392,
   "metadata": {
    "scrolled": false
   },
   "outputs": [
    {
     "data": {
      "text/plain": [
       "array([ True,  True,  True,  True,  True,  True,  True,  True,  True,\n",
       "        True,  True,  True,  True,  True,  True,  True,  True,  True,\n",
       "        True,  True,  True,  True,  True,  True,  True,  True,  True,\n",
       "        True,  True,  True,  True,  True,  True,  True,  True,  True,\n",
       "        True,  True,  True,  True,  True,  True,  True,  True,  True,\n",
       "        True,  True,  True,  True,  True,  True,  True,  True,  True])"
      ]
     },
     "execution_count": 392,
     "metadata": {},
     "output_type": "execute_result"
    }
   ],
   "source": [
    "quasiArr=quasiModel.get_support()\n",
    "quasiArr"
   ]
  },
  {
   "cell_type": "markdown",
   "metadata": {},
   "source": [
    "## Duplicate columns"
   ]
  },
  {
   "cell_type": "code",
   "execution_count": 356,
   "metadata": {},
   "outputs": [],
   "source": [
    "def duplicateColumns(data):\n",
    "    dupliCols=[]\n",
    "    for i in range(0,len(data.columns)):\n",
    "        col1=data.columns[i]\n",
    "        for col2 in data.columns[i+1:]:\n",
    "            if data[col1].equals(data[col2]):\n",
    "                dupliCols.append(col1+','+col2)\n",
    "    return dupliCols"
   ]
  },
  {
   "cell_type": "code",
   "execution_count": 357,
   "metadata": {},
   "outputs": [
    {
     "data": {
      "text/plain": [
       "[]"
      ]
     },
     "execution_count": 357,
     "metadata": {},
     "output_type": "execute_result"
    }
   ],
   "source": [
    "duplCols=duplicateColumns(combined)\n",
    "duplCols"
   ]
  },
  {
   "cell_type": "markdown",
   "metadata": {},
   "source": [
    "## Correlation columns"
   ]
  },
  {
   "cell_type": "code",
   "execution_count": 393,
   "metadata": {
    "scrolled": true
   },
   "outputs": [
    {
     "name": "stdout",
     "output_type": "stream",
     "text": [
      "Correlated columns: {'Freq_Of_Word_32', 'Freq_Of_Word_40', 'Freq_Of_Word_34'}\n"
     ]
    }
   ],
   "source": [
    "def correlation(dataset,threshold):\n",
    "    col_corr=set() # set will contains unique values.\n",
    "    corr_matrix=dataset.corr() #finding the correlation between columns.\n",
    "    for i in range(len(corr_matrix.columns)): #number of columns\n",
    "        for j in range(i):\n",
    "            if abs(corr_matrix.iloc[i,j])>threshold: #checking the correlation between columns.\n",
    "                colName=corr_matrix.columns[i] #getting the column name\n",
    "                col_corr.add(colName) #adding the correlated column name heigher than threshold value.\n",
    "    return col_corr #returning set of column names\n",
    "col=correlation(combined,0.75)\n",
    "print('Correlated columns:',col)"
   ]
  },
  {
   "cell_type": "code",
   "execution_count": 406,
   "metadata": {
    "scrolled": true
   },
   "outputs": [
    {
     "name": "stdout",
     "output_type": "stream",
     "text": [
      "Correlated columns: {'Freq_Of_Word_34', 'Freq_Of_Word_40'}\n"
     ]
    }
   ],
   "source": [
    "scol=correlation(combined,0.8)\n",
    "print('Correlated columns:',scol)\n",
    "combined=combined.drop(columns=scol,axis=1)\n"
   ]
  },
  {
   "cell_type": "code",
   "execution_count": null,
   "metadata": {},
   "outputs": [],
   "source": []
  },
  {
   "cell_type": "markdown",
   "metadata": {},
   "source": [
    "## Unique values columns"
   ]
  },
  {
   "cell_type": "code",
   "execution_count": 360,
   "metadata": {},
   "outputs": [],
   "source": [
    "# def identify_single_unique(data):\n",
    "#     \"\"\"Identifies features with only a single unique value. NaNs do not count as a unique value. \"\"\"\n",
    "#     removal_ops = {}\n",
    "        \n",
    "#     # Calculate the unique counts in each column\n",
    "#     unique_counts = data.nunique()\n",
    "\n",
    "#     unique_stats = pd.DataFrame(unique_counts).rename(columns = {'index': 'feature', 0: 'nunique'})\n",
    "\n",
    "#     # Find the columns with only one unique count\n",
    "#     record_single_unique = pd.DataFrame(unique_counts[unique_counts == 1]).reset_index().rename(columns = {'index': 'feature', 0: 'nunique'})\n",
    "\n",
    "#     to_drop = list(record_single_unique['feature'])\n",
    "\n",
    "#     record_single_unique = record_single_unique\n",
    "#     removal_ops['single_unique'] = to_drop\n",
    "\n",
    "#     print('%d features with a single unique value.\\n' % len(removal_ops['single_unique']))\n"
   ]
  },
  {
   "cell_type": "code",
   "execution_count": 361,
   "metadata": {
    "scrolled": true
   },
   "outputs": [
    {
     "name": "stdout",
     "output_type": "stream",
     "text": [
      "0 features with a single unique value.\n",
      "\n"
     ]
    }
   ],
   "source": [
    "identify_single_unique(combined)"
   ]
  },
  {
   "cell_type": "markdown",
   "metadata": {},
   "source": [
    "## Feature Selection SKlearn"
   ]
  },
  {
   "cell_type": "code",
   "execution_count": 362,
   "metadata": {},
   "outputs": [],
   "source": [
    "from sklearn.feature_selection import SelectKBest\n",
    "from sklearn.feature_selection import chi2"
   ]
  },
  {
   "cell_type": "code",
   "execution_count": 363,
   "metadata": {},
   "outputs": [],
   "source": [
    "# df_train=combined.iloc[:947,]\n",
    "# Y = df_train['IsGoodNews']\n",
    "# X = df_train.drop('IsGoodNews', axis=1)"
   ]
  },
  {
   "cell_type": "code",
   "execution_count": 319,
   "metadata": {},
   "outputs": [],
   "source": [
    "# bestfeatures = SelectKBest(score_func=chi2, k=10)\n",
    "# fit = bestfeatures.fit(X,Y)"
   ]
  },
  {
   "cell_type": "code",
   "execution_count": 320,
   "metadata": {},
   "outputs": [],
   "source": [
    "#X_train=X_train.drop(columns=scol,axis=1)\n",
    "#X_test=X_test.drop(columns=scol,axis=1)\n"
   ]
  },
  {
   "cell_type": "code",
   "execution_count": 321,
   "metadata": {},
   "outputs": [],
   "source": [
    "from sklearn.metrics import f1_score\n",
    "from xgboost import XGBClassifier\n",
    "import xgboost as xgb\n",
    "from sklearn.model_selection import train_test_split\n",
    "from sklearn.neighbors import KNeighborsClassifier\n",
    "from sklearn.linear_model import LogisticRegression\n",
    "from sklearn.naive_bayes import GaussianNB\n",
    "from sklearn.tree import DecisionTreeClassifier\n",
    "from sklearn.ensemble import RandomForestClassifier\n",
    "from sklearn.ensemble import GradientBoostingClassifier\n",
    "from sklearn.svm import SVC\n",
    "from sklearn.svm import SVC, LinearSVC"
   ]
  },
  {
   "cell_type": "markdown",
   "metadata": {},
   "source": [
    "## Modelling"
   ]
  },
  {
   "cell_type": "code",
   "execution_count": 402,
   "metadata": {},
   "outputs": [],
   "source": [
    "df_train=pd.read_csv(\"Train.csv\")\n",
    "df_test=pd.read_csv(\"Test.csv\")\n",
    "combined=pd.concat([df_train,df_test])"
   ]
  },
  {
   "cell_type": "code",
   "execution_count": 407,
   "metadata": {},
   "outputs": [],
   "source": [
    "df_train=combined.iloc[:947,]\n",
    "df_test=combined.iloc[947:,]\n",
    "#df_train.drop([\"IsGoodNews\"],axis=1,inplace=True)\n",
    "#df_train[\"IsGoodNews\"]=df_train[\"IsGoodNews\"].astype(int)"
   ]
  },
  {
   "cell_type": "code",
   "execution_count": 408,
   "metadata": {},
   "outputs": [],
   "source": [
    "X_train, X_test, Y_train, Y_test = train_test_split(df_train.drop(labels=['IsGoodNews'], axis=1),df_train['IsGoodNews'],test_size=0.3,random_state=0)"
   ]
  },
  {
   "cell_type": "code",
   "execution_count": 409,
   "metadata": {
    "scrolled": true
   },
   "outputs": [
    {
     "name": "stdout",
     "output_type": "stream",
     "text": [
      "Cross-validation of : <class 'sklearn.linear_model._logistic.LogisticRegression'>\n",
      "CV score = 91.23\n",
      "F1 Score score = 0.8858447488584474\n",
      "Cross-validation of : <class 'sklearn.neighbors._classification.KNeighborsClassifier'>\n",
      "CV score = 86.32\n",
      "F1 Score score = 0.8202764976958524\n",
      "Cross-validation of : <class 'sklearn.naive_bayes.GaussianNB'>\n",
      "CV score = 83.51\n",
      "F1 Score score = 0.8212927756653992\n",
      "Cross-validation of : <class 'sklearn.svm._classes.LinearSVC'>\n",
      "CV score = 91.58\n",
      "F1 Score score = 0.8909090909090909\n",
      "Cross-validation of : <class 'sklearn.ensemble._forest.RandomForestClassifier'>\n",
      "CV score = 92.63\n",
      "F1 Score score = 0.9041095890410958\n",
      "Cross-validation of : <class 'sklearn.ensemble._gb.GradientBoostingClassifier'>\n",
      "CV score = 92.28\n",
      "F1 Score score = 0.9017857142857143\n",
      "Cross-validation of : <class 'xgboost.sklearn.XGBClassifier'>\n",
      "CV score = 92.98\n",
      "F1 Score score = 0.9107142857142857\n",
      "Cross-validation of : <class 'sklearn.tree._classes.DecisionTreeClassifier'>\n",
      "CV score = 84.56\n",
      "F1 Score score = 0.808695652173913\n"
     ]
    }
   ],
   "source": [
    "def compute_score(clf, X, y, scoring='accuracy'):\n",
    "    xval = cross_val_score(clf, X, y, cv = 5, scoring=scoring)\n",
    "    return np.mean(xval)\n",
    "\n",
    "logreg = LogisticRegression()\n",
    "knn = KNeighborsClassifier(n_neighbors = 3)\n",
    "xgb=XGBClassifier()\n",
    "gaussian = GaussianNB()\n",
    "linear_svc = LinearSVC()\n",
    "decision_tree = DecisionTreeClassifier()\n",
    "#perceptron = Perceptron(max_iter=5)\n",
    "rf = RandomForestClassifier()\n",
    "gboost = GradientBoostingClassifier()\n",
    "\n",
    "\n",
    "models = [logreg,knn,gaussian, linear_svc,rf, gboost,xgb,decision_tree ]\n",
    "for model in models:\n",
    "    print ('Cross-validation of : {0}'.format(model.__class__))\n",
    "    #score = compute_score(clf=model, X=X_train, y=Y_train, scoring='accuracy')\n",
    "    model.fit(X_train,Y_train)\n",
    "    score=round(model.score(X_test, Y_test) * 100, 2)\n",
    "    predictions = model.predict(X_test)\n",
    "    accuracy = f1_score(Y_test, predictions)\n",
    "    print ('CV score = {0}'.format(score))\n",
    "    print ('F1 Score score = {0}'.format(accuracy))\n",
    "\n"
   ]
  },
  {
   "cell_type": "markdown",
   "metadata": {},
   "source": [
    "## LIGHTGBM"
   ]
  },
  {
   "cell_type": "code",
   "execution_count": 266,
   "metadata": {},
   "outputs": [],
   "source": [
    "# Y_train = df_train['IsGoodNews']\n",
    "# X_train = df_train.drop('IsGoodNews', axis=1)"
   ]
  },
  {
   "cell_type": "code",
   "execution_count": 267,
   "metadata": {},
   "outputs": [],
   "source": [
    "# d_train = lgb.Dataset(X_train, label=Y_train)"
   ]
  },
  {
   "cell_type": "code",
   "execution_count": 268,
   "metadata": {},
   "outputs": [],
   "source": [
    "# params = {}\n",
    "# params['learning_rate'] = 0.1\n",
    "# params['boosting_type'] = 'gbdt'\n",
    "# params['objective'] = 'binary'\n",
    "# params['metric'] = 'binary_logloss'\n",
    "# params['sub_feature'] = 1\n",
    "# params['num_leaves'] = 10\n",
    "# params['min_data'] = 2\n",
    "# params['max_depth'] = 6\n",
    "# clf = lgb.train(params, d_train, 200)\n",
    "# prediction=pd.DataFrame(clf.predict(df_test.drop([\"IsGoodNews\"],axis=1)),columns=['IsGoodNews'])\n",
    "# #score=f1_score(Y_test,prediction)\n"
   ]
  },
  {
   "cell_type": "markdown",
   "metadata": {},
   "source": [
    "## Feature Importance"
   ]
  },
  {
   "cell_type": "code",
   "execution_count": null,
   "metadata": {
    "scrolled": false
   },
   "outputs": [],
   "source": [
    "# model.get_score(importance_type='gain')"
   ]
  },
  {
   "cell_type": "code",
   "execution_count": 284,
   "metadata": {
    "scrolled": true
   },
   "outputs": [
    {
     "name": "stdout",
     "output_type": "stream",
     "text": [
      "Thresh=0.000, n=50, Accuracy: 91.82%\n",
      "Thresh=0.000, n=50, Accuracy: 91.82%\n",
      "Thresh=0.000, n=50, Accuracy: 91.82%\n",
      "Thresh=0.000, n=50, Accuracy: 91.82%\n",
      "Thresh=0.000, n=50, Accuracy: 91.82%\n",
      "Thresh=0.000, n=50, Accuracy: 91.82%\n",
      "Thresh=0.000, n=50, Accuracy: 91.82%\n",
      "Thresh=0.000, n=50, Accuracy: 91.82%\n",
      "Thresh=0.000, n=50, Accuracy: 91.82%\n",
      "Thresh=0.000, n=50, Accuracy: 91.82%\n",
      "Thresh=0.000, n=50, Accuracy: 91.82%\n",
      "Thresh=0.000, n=50, Accuracy: 91.82%\n"
     ]
    },
    {
     "ename": "KeyboardInterrupt",
     "evalue": "",
     "output_type": "error",
     "traceback": [
      "\u001b[0;31m---------------------------------------------------------------------------\u001b[0m",
      "\u001b[0;31mKeyboardInterrupt\u001b[0m                         Traceback (most recent call last)",
      "\u001b[0;32m<ipython-input-284-c02173120709>\u001b[0m in \u001b[0;36m<module>\u001b[0;34m\u001b[0m\n\u001b[1;32m     10\u001b[0m         \u001b[0;31m# train model\u001b[0m\u001b[0;34m\u001b[0m\u001b[0;34m\u001b[0m\u001b[0;34m\u001b[0m\u001b[0m\n\u001b[1;32m     11\u001b[0m         \u001b[0mselection_model\u001b[0m \u001b[0;34m=\u001b[0m \u001b[0mXGBClassifier\u001b[0m\u001b[0;34m(\u001b[0m\u001b[0mn_estimators\u001b[0m\u001b[0;34m=\u001b[0m\u001b[0;36m800\u001b[0m\u001b[0;34m,\u001b[0m\u001b[0mmax_depth\u001b[0m\u001b[0;34m=\u001b[0m\u001b[0;36m6\u001b[0m\u001b[0;34m)\u001b[0m\u001b[0;34m\u001b[0m\u001b[0;34m\u001b[0m\u001b[0m\n\u001b[0;32m---> 12\u001b[0;31m         \u001b[0mselection_model\u001b[0m\u001b[0;34m.\u001b[0m\u001b[0mfit\u001b[0m\u001b[0;34m(\u001b[0m\u001b[0mselect_X_train\u001b[0m\u001b[0;34m,\u001b[0m \u001b[0mY_train\u001b[0m\u001b[0;34m)\u001b[0m\u001b[0;34m\u001b[0m\u001b[0;34m\u001b[0m\u001b[0m\n\u001b[0m\u001b[1;32m     13\u001b[0m         \u001b[0;31m# eval model\u001b[0m\u001b[0;34m\u001b[0m\u001b[0;34m\u001b[0m\u001b[0;34m\u001b[0m\u001b[0m\n\u001b[1;32m     14\u001b[0m         \u001b[0mselect_X_test\u001b[0m \u001b[0;34m=\u001b[0m \u001b[0mselection\u001b[0m\u001b[0;34m.\u001b[0m\u001b[0mtransform\u001b[0m\u001b[0;34m(\u001b[0m\u001b[0mX_test\u001b[0m\u001b[0;34m)\u001b[0m\u001b[0;34m\u001b[0m\u001b[0;34m\u001b[0m\u001b[0m\n",
      "\u001b[0;32m~/.local/lib/python3.6/site-packages/xgboost/sklearn.py\u001b[0m in \u001b[0;36mfit\u001b[0;34m(self, X, y, sample_weight, base_margin, eval_set, eval_metric, early_stopping_rounds, verbose, xgb_model, sample_weight_eval_set, callbacks)\u001b[0m\n\u001b[1;32m    821\u001b[0m                               \u001b[0mevals_result\u001b[0m\u001b[0;34m=\u001b[0m\u001b[0mevals_result\u001b[0m\u001b[0;34m,\u001b[0m \u001b[0mobj\u001b[0m\u001b[0;34m=\u001b[0m\u001b[0mobj\u001b[0m\u001b[0;34m,\u001b[0m \u001b[0mfeval\u001b[0m\u001b[0;34m=\u001b[0m\u001b[0mfeval\u001b[0m\u001b[0;34m,\u001b[0m\u001b[0;34m\u001b[0m\u001b[0;34m\u001b[0m\u001b[0m\n\u001b[1;32m    822\u001b[0m                               \u001b[0mverbose_eval\u001b[0m\u001b[0;34m=\u001b[0m\u001b[0mverbose\u001b[0m\u001b[0;34m,\u001b[0m \u001b[0mxgb_model\u001b[0m\u001b[0;34m=\u001b[0m\u001b[0mxgb_model\u001b[0m\u001b[0;34m,\u001b[0m\u001b[0;34m\u001b[0m\u001b[0;34m\u001b[0m\u001b[0m\n\u001b[0;32m--> 823\u001b[0;31m                               callbacks=callbacks)\n\u001b[0m\u001b[1;32m    824\u001b[0m \u001b[0;34m\u001b[0m\u001b[0m\n\u001b[1;32m    825\u001b[0m         \u001b[0mself\u001b[0m\u001b[0;34m.\u001b[0m\u001b[0mobjective\u001b[0m \u001b[0;34m=\u001b[0m \u001b[0mxgb_options\u001b[0m\u001b[0;34m[\u001b[0m\u001b[0;34m\"objective\"\u001b[0m\u001b[0;34m]\u001b[0m\u001b[0;34m\u001b[0m\u001b[0;34m\u001b[0m\u001b[0m\n",
      "\u001b[0;32m~/.local/lib/python3.6/site-packages/xgboost/training.py\u001b[0m in \u001b[0;36mtrain\u001b[0;34m(params, dtrain, num_boost_round, evals, obj, feval, maximize, early_stopping_rounds, evals_result, verbose_eval, xgb_model, callbacks)\u001b[0m\n\u001b[1;32m    207\u001b[0m                            \u001b[0mevals\u001b[0m\u001b[0;34m=\u001b[0m\u001b[0mevals\u001b[0m\u001b[0;34m,\u001b[0m\u001b[0;34m\u001b[0m\u001b[0;34m\u001b[0m\u001b[0m\n\u001b[1;32m    208\u001b[0m                            \u001b[0mobj\u001b[0m\u001b[0;34m=\u001b[0m\u001b[0mobj\u001b[0m\u001b[0;34m,\u001b[0m \u001b[0mfeval\u001b[0m\u001b[0;34m=\u001b[0m\u001b[0mfeval\u001b[0m\u001b[0;34m,\u001b[0m\u001b[0;34m\u001b[0m\u001b[0;34m\u001b[0m\u001b[0m\n\u001b[0;32m--> 209\u001b[0;31m                            xgb_model=xgb_model, callbacks=callbacks)\n\u001b[0m\u001b[1;32m    210\u001b[0m \u001b[0;34m\u001b[0m\u001b[0m\n\u001b[1;32m    211\u001b[0m \u001b[0;34m\u001b[0m\u001b[0m\n",
      "\u001b[0;32m~/.local/lib/python3.6/site-packages/xgboost/training.py\u001b[0m in \u001b[0;36m_train_internal\u001b[0;34m(params, dtrain, num_boost_round, evals, obj, feval, xgb_model, callbacks)\u001b[0m\n\u001b[1;32m     72\u001b[0m         \u001b[0;31m# Skip the first update if it is a recovery step.\u001b[0m\u001b[0;34m\u001b[0m\u001b[0;34m\u001b[0m\u001b[0;34m\u001b[0m\u001b[0m\n\u001b[1;32m     73\u001b[0m         \u001b[0;32mif\u001b[0m \u001b[0mversion\u001b[0m \u001b[0;34m%\u001b[0m \u001b[0;36m2\u001b[0m \u001b[0;34m==\u001b[0m \u001b[0;36m0\u001b[0m\u001b[0;34m:\u001b[0m\u001b[0;34m\u001b[0m\u001b[0;34m\u001b[0m\u001b[0m\n\u001b[0;32m---> 74\u001b[0;31m             \u001b[0mbst\u001b[0m\u001b[0;34m.\u001b[0m\u001b[0mupdate\u001b[0m\u001b[0;34m(\u001b[0m\u001b[0mdtrain\u001b[0m\u001b[0;34m,\u001b[0m \u001b[0mi\u001b[0m\u001b[0;34m,\u001b[0m \u001b[0mobj\u001b[0m\u001b[0;34m)\u001b[0m\u001b[0;34m\u001b[0m\u001b[0;34m\u001b[0m\u001b[0m\n\u001b[0m\u001b[1;32m     75\u001b[0m             \u001b[0mbst\u001b[0m\u001b[0;34m.\u001b[0m\u001b[0msave_rabit_checkpoint\u001b[0m\u001b[0;34m(\u001b[0m\u001b[0;34m)\u001b[0m\u001b[0;34m\u001b[0m\u001b[0;34m\u001b[0m\u001b[0m\n\u001b[1;32m     76\u001b[0m             \u001b[0mversion\u001b[0m \u001b[0;34m+=\u001b[0m \u001b[0;36m1\u001b[0m\u001b[0;34m\u001b[0m\u001b[0;34m\u001b[0m\u001b[0m\n",
      "\u001b[0;32m~/.local/lib/python3.6/site-packages/xgboost/core.py\u001b[0m in \u001b[0;36mupdate\u001b[0;34m(self, dtrain, iteration, fobj)\u001b[0m\n\u001b[1;32m   1246\u001b[0m             _check_call(_LIB.XGBoosterUpdateOneIter(self.handle,\n\u001b[1;32m   1247\u001b[0m                                                     \u001b[0mctypes\u001b[0m\u001b[0;34m.\u001b[0m\u001b[0mc_int\u001b[0m\u001b[0;34m(\u001b[0m\u001b[0miteration\u001b[0m\u001b[0;34m)\u001b[0m\u001b[0;34m,\u001b[0m\u001b[0;34m\u001b[0m\u001b[0;34m\u001b[0m\u001b[0m\n\u001b[0;32m-> 1248\u001b[0;31m                                                     dtrain.handle))\n\u001b[0m\u001b[1;32m   1249\u001b[0m         \u001b[0;32melse\u001b[0m\u001b[0;34m:\u001b[0m\u001b[0;34m\u001b[0m\u001b[0;34m\u001b[0m\u001b[0m\n\u001b[1;32m   1250\u001b[0m             \u001b[0mpred\u001b[0m \u001b[0;34m=\u001b[0m \u001b[0mself\u001b[0m\u001b[0;34m.\u001b[0m\u001b[0mpredict\u001b[0m\u001b[0;34m(\u001b[0m\u001b[0mdtrain\u001b[0m\u001b[0;34m,\u001b[0m \u001b[0mtraining\u001b[0m\u001b[0;34m=\u001b[0m\u001b[0;32mTrue\u001b[0m\u001b[0;34m)\u001b[0m\u001b[0;34m\u001b[0m\u001b[0;34m\u001b[0m\u001b[0m\n",
      "\u001b[0;31mKeyboardInterrupt\u001b[0m: "
     ]
    }
   ],
   "source": [
    "from numpy import sort\n",
    "from sklearn.feature_selection import SelectFromModel\n",
    "from sklearn.metrics import accuracy_score\n",
    "thresholds = sort(model.feature_importances_)\n",
    "#thresholds=0.0001\n",
    "for thresh in thresholds:\n",
    "\t# select features using threshold\n",
    "\tselection = SelectFromModel(model, threshold=thresh, prefit=True)\n",
    "\tselect_X_train = selection.transform(X_train)\n",
    "\t# train model\n",
    "\tselection_model = XGBClassifier(n_estimators=800,max_depth=6)\n",
    "\tselection_model.fit(select_X_train, Y_train)\n",
    "\t# eval model\n",
    "\tselect_X_test = selection.transform(X_test)\n",
    "\tpredictions = selection_model.predict(select_X_test)\n",
    "\taccuracy = f1_score(Y_test, predictions)\n",
    "\tprint(\"Thresh=%.3f, n=%d, Accuracy: %.2f%%\" % (thresh, select_X_train.shape[1], accuracy*100.0))"
   ]
  },
  {
   "cell_type": "code",
   "execution_count": 327,
   "metadata": {},
   "outputs": [],
   "source": [
    "selection = SelectFromModel(model, threshold=0.00001, prefit=True)\n",
    "X_train = selection.transform(X_train)\n",
    "X_test= selection.transform(X_test)"
   ]
  },
  {
   "cell_type": "code",
   "execution_count": 328,
   "metadata": {},
   "outputs": [
    {
     "data": {
      "text/plain": [
       "(662, 50)"
      ]
     },
     "execution_count": 328,
     "metadata": {},
     "output_type": "execute_result"
    }
   ],
   "source": [
    "X_train.shape"
   ]
  },
  {
   "cell_type": "code",
   "execution_count": 331,
   "metadata": {
    "scrolled": false
   },
   "outputs": [
    {
     "data": {
      "text/plain": [
       "XGBClassifier(base_score=0.5, booster=None, colsample_bylevel=1,\n",
       "              colsample_bynode=1, colsample_bytree=1, gamma=0, gpu_id=-1,\n",
       "              importance_type='gain', interaction_constraints=None,\n",
       "              learning_rate=0.300000012, max_delta_step=0, max_depth=6,\n",
       "              min_child_weight=1, missing=nan, monotone_constraints=None,\n",
       "              n_estimators=800, n_jobs=0, num_parallel_tree=1,\n",
       "              objective='binary:logistic', random_state=1, reg_alpha=0,\n",
       "              reg_lambda=1, scale_pos_weight=1, subsample=1, tree_method=None,\n",
       "              validate_parameters=False, verbosity=None)"
      ]
     },
     "execution_count": 331,
     "metadata": {},
     "output_type": "execute_result"
    }
   ],
   "source": [
    "rf = XGBClassifier(n_estimators=800, random_state=1, max_depth=6)\n",
    "rf.fit(X_train,Y_train)\n"
   ]
  },
  {
   "cell_type": "code",
   "execution_count": 332,
   "metadata": {},
   "outputs": [
    {
     "name": "stdout",
     "output_type": "stream",
     "text": [
      "0.9181818181818182\n"
     ]
    }
   ],
   "source": [
    "predictions = rf.predict(X_test)\n",
    "print(f1_score(Y_test, predictions))\n"
   ]
  },
  {
   "cell_type": "code",
   "execution_count": 339,
   "metadata": {},
   "outputs": [
    {
     "ename": "AttributeError",
     "evalue": "'XGBClassifier' object has no attribute 'get_fscore'",
     "output_type": "error",
     "traceback": [
      "\u001b[0;31m---------------------------------------------------------------------------\u001b[0m",
      "\u001b[0;31mAttributeError\u001b[0m                            Traceback (most recent call last)",
      "\u001b[0;32m<ipython-input-339-5b84986703ff>\u001b[0m in \u001b[0;36m<module>\u001b[0;34m\u001b[0m\n\u001b[0;32m----> 1\u001b[0;31m \u001b[0mimportance\u001b[0m \u001b[0;34m=\u001b[0m \u001b[0mrf\u001b[0m\u001b[0;34m.\u001b[0m\u001b[0mget_fscore\u001b[0m\u001b[0;34m(\u001b[0m\u001b[0mfmap\u001b[0m\u001b[0;34m=\u001b[0m\u001b[0;34m'xgb.fmap'\u001b[0m\u001b[0;34m)\u001b[0m\u001b[0;34m\u001b[0m\u001b[0;34m\u001b[0m\u001b[0m\n\u001b[0m",
      "\u001b[0;31mAttributeError\u001b[0m: 'XGBClassifier' object has no attribute 'get_fscore'"
     ]
    }
   ],
   "source": [
    "importance = rf.get_fscore(fmap='xgb.fmap')"
   ]
  },
  {
   "cell_type": "code",
   "execution_count": 342,
   "metadata": {},
   "outputs": [
    {
     "data": {
      "text/plain": [
       "<matplotlib.axes._subplots.AxesSubplot at 0x7fc41ad19278>"
      ]
     },
     "execution_count": 342,
     "metadata": {},
     "output_type": "execute_result"
    },
    {
     "data": {
      "text/plain": [
       "<Figure size 1440x720 with 0 Axes>"
      ]
     },
     "metadata": {},
     "output_type": "display_data"
    },
    {
     "data": {
      "image/png": "[encoded data removed]",
      "text/plain": [
       "<Figure size 432x288 with 1 Axes>"
      ]
     },
     "metadata": {
      "needs_background": "light"
     },
     "output_type": "display_data"
    }
   ],
   "source": [
    "from xgboost import plot_importance\n",
    "plt.figure(figsize=(20,10))\n",
    "plot_importance(rf, max_num_features=10)"
   ]
  },
  {
   "cell_type": "code",
   "execution_count": 150,
   "metadata": {},
   "outputs": [
    {
     "name": "stdout",
     "output_type": "stream",
     "text": [
      "[0.0421056  0.03365225 0.28152325 0.         0.04545466 0.01109459\n",
      " 0.1605326  0.         0.04374242 0.00536232 0.00563397 0.\n",
      " 0.         0.         0.00516189 0.0232725  0.00287083 0.00599515\n",
      " 0.00625383 0.         0.00569206 0.         0.         0.01974096\n",
      " 0.06505574 0.         0.00572417 0.00636019 0.02331181 0.04262243\n",
      " 0.02999101 0.12884577]\n"
     ]
    }
   ],
   "source": [
    "#plot_importance(rf, height=1)\n"
   ]
  },
  {
   "cell_type": "code",
   "execution_count": 294,
   "metadata": {
    "scrolled": true
   },
   "outputs": [],
   "source": [
    "df_train=combined.iloc[:947,]\n",
    "df_test=combined.iloc[947:,]\n",
    "#df_train.drop([\"IsGoodNews\"],axis=1,inplace=True)\n",
    "#df_train[\"IsGoodNews\"]=df_train[\"IsGoodNews\"].astype(int)"
   ]
  },
  {
   "cell_type": "code",
   "execution_count": null,
   "metadata": {},
   "outputs": [],
   "source": []
  },
  {
   "cell_type": "code",
   "execution_count": 295,
   "metadata": {},
   "outputs": [],
   "source": [
    "Y_train = df_train['IsGoodNews']\n",
    "X_train = df_train.drop('IsGoodNews', axis=1)"
   ]
  },
  {
   "cell_type": "code",
   "execution_count": 296,
   "metadata": {},
   "outputs": [],
   "source": [
    "X_test=df_test.copy()"
   ]
  },
  {
   "cell_type": "code",
   "execution_count": 299,
   "metadata": {},
   "outputs": [
    {
     "data": {
      "text/plain": [
       "XGBClassifier(base_score=0.5, booster=None, colsample_bylevel=1,\n",
       "              colsample_bynode=1, colsample_bytree=1, gamma=0, gpu_id=-1,\n",
       "              importance_type='gain', interaction_constraints=None,\n",
       "              learning_rate=0.300000012, max_delta_step=0, max_depth=4,\n",
       "              min_child_weight=1, missing=nan, monotone_constraints=None,\n",
       "              n_estimators=100, n_jobs=0, num_parallel_tree=1,\n",
       "              objective='binary:logistic', random_state=1, reg_alpha=0,\n",
       "              reg_lambda=1, scale_pos_weight=1, subsample=1, tree_method=None,\n",
       "              validate_parameters=False, verbosity=None)"
      ]
     },
     "execution_count": 299,
     "metadata": {},
     "output_type": "execute_result"
    }
   ],
   "source": [
    "\n",
    "rf = XGBClassifier(n_estimators=100, random_state=1, max_depth=4)\n",
    "rf.fit(X_train,Y_train)"
   ]
  },
  {
   "cell_type": "code",
   "execution_count": 300,
   "metadata": {
    "collapsed": true
   },
   "outputs": [
    {
     "ename": "ValueError",
     "evalue": "feature_names mismatch: ['Freq_Of_Word_1', 'Freq_Of_Word_2', 'Freq_Of_Word_3', 'Freq_Of_Word_4', 'Freq_Of_Word_5', 'Freq_Of_Word_6', 'Freq_Of_Word_7', 'Freq_Of_Word_8', 'Freq_Of_Word_9', 'Freq_Of_Word_10', 'Freq_Of_Word_11', 'Freq_Of_Word_12', 'Freq_Of_Word_13', 'Freq_Of_Word_14', 'Freq_Of_Word_15', 'Freq_Of_Word_16', 'Freq_Of_Word_17', 'Freq_Of_Word_18', 'Freq_Of_Word_19', 'Freq_Of_Word_20', 'Freq_Of_Word_21', 'Freq_Of_Word_22', 'Freq_Of_Word_23', 'Freq_Of_Word_24', 'Freq_Of_Word_25', 'Freq_Of_Word_26', 'Freq_Of_Word_27', 'Freq_Of_Word_28', 'Freq_Of_Word_29', 'Freq_Of_Word_30', 'Freq_Of_Word_31', 'Freq_Of_Word_33', 'Freq_Of_Word_35', 'Freq_Of_Word_36', 'Freq_Of_Word_37', 'Freq_Of_Word_38', 'Freq_Of_Word_39', 'Freq_Of_Word_41', 'Freq_Of_Word_42', 'Freq_Of_Word_43', 'Freq_Of_Word_44', 'Freq_Of_Word_45', 'Freq_Of_Word_46', 'Freq_Of_Word_47', 'Freq_Of_Word_48', 'Freq_Of_Word_49', 'Freq_Of_Word_50', 'TotalEmojiCharacters', 'LengthOFFirstParagraph', 'StylizedLetters'] ['Freq_Of_Word_1', 'Freq_Of_Word_2', 'Freq_Of_Word_3', 'Freq_Of_Word_4', 'Freq_Of_Word_5', 'Freq_Of_Word_6', 'Freq_Of_Word_7', 'Freq_Of_Word_8', 'Freq_Of_Word_9', 'Freq_Of_Word_10', 'Freq_Of_Word_11', 'Freq_Of_Word_12', 'Freq_Of_Word_13', 'Freq_Of_Word_14', 'Freq_Of_Word_15', 'Freq_Of_Word_16', 'Freq_Of_Word_17', 'Freq_Of_Word_18', 'Freq_Of_Word_19', 'Freq_Of_Word_20', 'Freq_Of_Word_21', 'Freq_Of_Word_22', 'Freq_Of_Word_23', 'Freq_Of_Word_24', 'Freq_Of_Word_25', 'Freq_Of_Word_26', 'Freq_Of_Word_27', 'Freq_Of_Word_28', 'Freq_Of_Word_29', 'Freq_Of_Word_30', 'Freq_Of_Word_31', 'Freq_Of_Word_33', 'Freq_Of_Word_35', 'Freq_Of_Word_36', 'Freq_Of_Word_37', 'Freq_Of_Word_38', 'Freq_Of_Word_39', 'Freq_Of_Word_41', 'Freq_Of_Word_42', 'Freq_Of_Word_43', 'Freq_Of_Word_44', 'Freq_Of_Word_45', 'Freq_Of_Word_46', 'Freq_Of_Word_47', 'Freq_Of_Word_48', 'Freq_Of_Word_49', 'Freq_Of_Word_50', 'TotalEmojiCharacters', 'LengthOFFirstParagraph', 'StylizedLetters', 'IsGoodNews']\ntraining data did not have the following fields: IsGoodNews",
     "output_type": "error",
     "traceback": [
      "\u001b[0;31m---------------------------------------------------------------------------\u001b[0m",
      "\u001b[0;31mValueError\u001b[0m                                Traceback (most recent call last)",
      "\u001b[0;32m<ipython-input-300-2a6f00ec4e9c>\u001b[0m in \u001b[0;36m<module>\u001b[0;34m\u001b[0m\n\u001b[0;32m----> 1\u001b[0;31m \u001b[0mscore\u001b[0m\u001b[0;34m=\u001b[0m\u001b[0mround\u001b[0m\u001b[0;34m(\u001b[0m\u001b[0mrf\u001b[0m\u001b[0;34m.\u001b[0m\u001b[0mscore\u001b[0m\u001b[0;34m(\u001b[0m\u001b[0mX_test\u001b[0m\u001b[0;34m,\u001b[0m \u001b[0mY_test\u001b[0m\u001b[0;34m)\u001b[0m \u001b[0;34m*\u001b[0m \u001b[0;36m100\u001b[0m\u001b[0;34m,\u001b[0m \u001b[0;36m2\u001b[0m\u001b[0;34m)\u001b[0m\u001b[0;34m\u001b[0m\u001b[0;34m\u001b[0m\u001b[0m\n\u001b[0m",
      "\u001b[0;32m~/.local/lib/python3.6/site-packages/sklearn/base.py\u001b[0m in \u001b[0;36mscore\u001b[0;34m(self, X, y, sample_weight)\u001b[0m\n\u001b[1;32m    367\u001b[0m         \"\"\"\n\u001b[1;32m    368\u001b[0m         \u001b[0;32mfrom\u001b[0m \u001b[0;34m.\u001b[0m\u001b[0mmetrics\u001b[0m \u001b[0;32mimport\u001b[0m \u001b[0maccuracy_score\u001b[0m\u001b[0;34m\u001b[0m\u001b[0;34m\u001b[0m\u001b[0m\n\u001b[0;32m--> 369\u001b[0;31m         \u001b[0;32mreturn\u001b[0m \u001b[0maccuracy_score\u001b[0m\u001b[0;34m(\u001b[0m\u001b[0my\u001b[0m\u001b[0;34m,\u001b[0m \u001b[0mself\u001b[0m\u001b[0;34m.\u001b[0m\u001b[0mpredict\u001b[0m\u001b[0;34m(\u001b[0m\u001b[0mX\u001b[0m\u001b[0;34m)\u001b[0m\u001b[0;34m,\u001b[0m \u001b[0msample_weight\u001b[0m\u001b[0;34m=\u001b[0m\u001b[0msample_weight\u001b[0m\u001b[0;34m)\u001b[0m\u001b[0;34m\u001b[0m\u001b[0;34m\u001b[0m\u001b[0m\n\u001b[0m\u001b[1;32m    370\u001b[0m \u001b[0;34m\u001b[0m\u001b[0m\n\u001b[1;32m    371\u001b[0m \u001b[0;34m\u001b[0m\u001b[0m\n",
      "\u001b[0;32m~/.local/lib/python3.6/site-packages/xgboost/sklearn.py\u001b[0m in \u001b[0;36mpredict\u001b[0;34m(self, data, output_margin, ntree_limit, validate_features, base_margin)\u001b[0m\n\u001b[1;32m    885\u001b[0m             \u001b[0moutput_margin\u001b[0m\u001b[0;34m=\u001b[0m\u001b[0moutput_margin\u001b[0m\u001b[0;34m,\u001b[0m\u001b[0;34m\u001b[0m\u001b[0;34m\u001b[0m\u001b[0m\n\u001b[1;32m    886\u001b[0m             \u001b[0mntree_limit\u001b[0m\u001b[0;34m=\u001b[0m\u001b[0mntree_limit\u001b[0m\u001b[0;34m,\u001b[0m\u001b[0;34m\u001b[0m\u001b[0;34m\u001b[0m\u001b[0m\n\u001b[0;32m--> 887\u001b[0;31m             validate_features=validate_features)\n\u001b[0m\u001b[1;32m    888\u001b[0m         \u001b[0;32mif\u001b[0m \u001b[0moutput_margin\u001b[0m\u001b[0;34m:\u001b[0m\u001b[0;34m\u001b[0m\u001b[0;34m\u001b[0m\u001b[0m\n\u001b[1;32m    889\u001b[0m             \u001b[0;31m# If output_margin is active, simply return the scores\u001b[0m\u001b[0;34m\u001b[0m\u001b[0;34m\u001b[0m\u001b[0;34m\u001b[0m\u001b[0m\n",
      "\u001b[0;32m~/.local/lib/python3.6/site-packages/xgboost/core.py\u001b[0m in \u001b[0;36mpredict\u001b[0;34m(self, data, output_margin, ntree_limit, pred_leaf, pred_contribs, approx_contribs, pred_interactions, validate_features, training)\u001b[0m\n\u001b[1;32m   1440\u001b[0m \u001b[0;34m\u001b[0m\u001b[0m\n\u001b[1;32m   1441\u001b[0m         \u001b[0;32mif\u001b[0m \u001b[0mvalidate_features\u001b[0m\u001b[0;34m:\u001b[0m\u001b[0;34m\u001b[0m\u001b[0;34m\u001b[0m\u001b[0m\n\u001b[0;32m-> 1442\u001b[0;31m             \u001b[0mself\u001b[0m\u001b[0;34m.\u001b[0m\u001b[0m_validate_features\u001b[0m\u001b[0;34m(\u001b[0m\u001b[0mdata\u001b[0m\u001b[0;34m)\u001b[0m\u001b[0;34m\u001b[0m\u001b[0;34m\u001b[0m\u001b[0m\n\u001b[0m\u001b[1;32m   1443\u001b[0m \u001b[0;34m\u001b[0m\u001b[0m\n\u001b[1;32m   1444\u001b[0m         \u001b[0mlength\u001b[0m \u001b[0;34m=\u001b[0m \u001b[0mc_bst_ulong\u001b[0m\u001b[0;34m(\u001b[0m\u001b[0;34m)\u001b[0m\u001b[0;34m\u001b[0m\u001b[0;34m\u001b[0m\u001b[0m\n",
      "\u001b[0;32m~/.local/lib/python3.6/site-packages/xgboost/core.py\u001b[0m in \u001b[0;36m_validate_features\u001b[0;34m(self, data)\u001b[0m\n\u001b[1;32m   1852\u001b[0m \u001b[0;34m\u001b[0m\u001b[0m\n\u001b[1;32m   1853\u001b[0m                 raise ValueError(msg.format(self.feature_names,\n\u001b[0;32m-> 1854\u001b[0;31m                                             data.feature_names))\n\u001b[0m\u001b[1;32m   1855\u001b[0m \u001b[0;34m\u001b[0m\u001b[0m\n\u001b[1;32m   1856\u001b[0m     def get_split_value_histogram(self, feature, fmap='', bins=None,\n",
      "\u001b[0;31mValueError\u001b[0m: feature_names mismatch: ['Freq_Of_Word_1', 'Freq_Of_Word_2', 'Freq_Of_Word_3', 'Freq_Of_Word_4', 'Freq_Of_Word_5', 'Freq_Of_Word_6', 'Freq_Of_Word_7', 'Freq_Of_Word_8', 'Freq_Of_Word_9', 'Freq_Of_Word_10', 'Freq_Of_Word_11', 'Freq_Of_Word_12', 'Freq_Of_Word_13', 'Freq_Of_Word_14', 'Freq_Of_Word_15', 'Freq_Of_Word_16', 'Freq_Of_Word_17', 'Freq_Of_Word_18', 'Freq_Of_Word_19', 'Freq_Of_Word_20', 'Freq_Of_Word_21', 'Freq_Of_Word_22', 'Freq_Of_Word_23', 'Freq_Of_Word_24', 'Freq_Of_Word_25', 'Freq_Of_Word_26', 'Freq_Of_Word_27', 'Freq_Of_Word_28', 'Freq_Of_Word_29', 'Freq_Of_Word_30', 'Freq_Of_Word_31', 'Freq_Of_Word_33', 'Freq_Of_Word_35', 'Freq_Of_Word_36', 'Freq_Of_Word_37', 'Freq_Of_Word_38', 'Freq_Of_Word_39', 'Freq_Of_Word_41', 'Freq_Of_Word_42', 'Freq_Of_Word_43', 'Freq_Of_Word_44', 'Freq_Of_Word_45', 'Freq_Of_Word_46', 'Freq_Of_Word_47', 'Freq_Of_Word_48', 'Freq_Of_Word_49', 'Freq_Of_Word_50', 'TotalEmojiCharacters', 'LengthOFFirstParagraph', 'StylizedLetters'] ['Freq_Of_Word_1', 'Freq_Of_Word_2', 'Freq_Of_Word_3', 'Freq_Of_Word_4', 'Freq_Of_Word_5', 'Freq_Of_Word_6', 'Freq_Of_Word_7', 'Freq_Of_Word_8', 'Freq_Of_Word_9', 'Freq_Of_Word_10', 'Freq_Of_Word_11', 'Freq_Of_Word_12', 'Freq_Of_Word_13', 'Freq_Of_Word_14', 'Freq_Of_Word_15', 'Freq_Of_Word_16', 'Freq_Of_Word_17', 'Freq_Of_Word_18', 'Freq_Of_Word_19', 'Freq_Of_Word_20', 'Freq_Of_Word_21', 'Freq_Of_Word_22', 'Freq_Of_Word_23', 'Freq_Of_Word_24', 'Freq_Of_Word_25', 'Freq_Of_Word_26', 'Freq_Of_Word_27', 'Freq_Of_Word_28', 'Freq_Of_Word_29', 'Freq_Of_Word_30', 'Freq_Of_Word_31', 'Freq_Of_Word_33', 'Freq_Of_Word_35', 'Freq_Of_Word_36', 'Freq_Of_Word_37', 'Freq_Of_Word_38', 'Freq_Of_Word_39', 'Freq_Of_Word_41', 'Freq_Of_Word_42', 'Freq_Of_Word_43', 'Freq_Of_Word_44', 'Freq_Of_Word_45', 'Freq_Of_Word_46', 'Freq_Of_Word_47', 'Freq_Of_Word_48', 'Freq_Of_Word_49', 'Freq_Of_Word_50', 'TotalEmojiCharacters', 'LengthOFFirstParagraph', 'StylizedLetters', 'IsGoodNews']\ntraining data did not have the following fields: IsGoodNews"
     ]
    }
   ],
   "source": [
    "score=round(rf.score(X_test, Y_test) * 100, 2)"
   ]
  },
  {
   "cell_type": "code",
   "execution_count": 220,
   "metadata": {},
   "outputs": [],
   "source": [
    "#print('Random Forests roc-auc: {}'.format(roc_auc_score(Y_test, pred[:,1])))"
   ]
  },
  {
   "cell_type": "code",
   "execution_count": null,
   "metadata": {},
   "outputs": [],
   "source": []
  },
  {
   "cell_type": "code",
   "execution_count": 208,
   "metadata": {},
   "outputs": [],
   "source": [
    "#"
   ]
  },
  {
   "cell_type": "code",
   "execution_count": 380,
   "metadata": {
    "scrolled": true
   },
   "outputs": [],
   "source": [
    "##SUbmission\n",
    "\n",
    "df_train=combined.iloc[:947,]\n",
    "df_test=combined.iloc[947:,]\n",
    "Y_train = df_train['IsGoodNews']\n",
    "X_train = df_train.drop('IsGoodNews', axis=1)\n",
    "rf = XGBClassifier(n_estimators=100, random_state=1, max_depth=4)\n",
    "rf.fit(X_train,Y_train)\n",
    "pred = rf.predict(df_test.drop([\"IsGoodNews\"],axis=1))\n",
    "submission=pd.DataFrame(pred,columns=[\"IsGoodNews\"])\n",
    "submission.to_excel(\"submission.xlsx\")"
   ]
  },
  {
   "cell_type": "code",
   "execution_count": null,
   "metadata": {},
   "outputs": [],
   "source": []
  }
 ],
 "metadata": {
  "kernelspec": {
   "display_name": "Python 3",
   "language": "python",
   "name": "python3"
  },
  "language_info": {
   "codemirror_mode": {
    "name": "ipython",
    "version": 3
   },
   "file_extension": ".py",
   "mimetype": "text/x-python",
   "name": "python",
   "nbconvert_exporter": "python",
   "pygments_lexer": "ipython3",
   "version": "3.6.9"
  }
 },
 "nbformat": 4,
 "nbformat_minor": 2
}
