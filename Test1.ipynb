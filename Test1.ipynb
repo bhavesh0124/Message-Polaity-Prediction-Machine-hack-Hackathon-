{
 "cells": [
  {
   "cell_type": "code",
   "execution_count": 668,
   "metadata": {},
   "outputs": [],
   "source": [
    "import pandas as pd\n",
    "import numpy as np\n",
    "import matplotlib.pyplot as plt\n",
    "import seaborn as sns\n",
    "import warnings\n",
    "import lightgbm as lgb\n",
    "warnings.filterwarnings('ignore')\n",
    "import numpy as np\n",
    "from sklearn.preprocessing import LabelEncoder"
   ]
  },
  {
   "cell_type": "code",
   "execution_count": 669,
   "metadata": {
    "scrolled": true
   },
   "outputs": [
    {
     "name": "stdout",
     "output_type": "stream",
     "text": [
      "prediction.xlsx\t\tsubmission\t Test1.ipynb  Test.csv\r\n",
      "Sample_Submission.xlsx\tsubmission.xlsx  Test2.ipynb  Train.csv\r\n"
     ]
    }
   ],
   "source": [
    "!ls"
   ]
  },
  {
   "cell_type": "code",
   "execution_count": 670,
   "metadata": {},
   "outputs": [],
   "source": [
    "df_train=pd.read_csv(\"Train.csv\")\n",
    "df_test=pd.read_csv(\"Test.csv\")"
   ]
  },
  {
   "cell_type": "code",
   "execution_count": 671,
   "metadata": {},
   "outputs": [
    {
     "data": {
      "text/plain": [
       "(947, 54)"
      ]
     },
     "execution_count": 671,
     "metadata": {},
     "output_type": "execute_result"
    }
   ],
   "source": [
    "df_train.shape"
   ]
  },
  {
   "cell_type": "code",
   "execution_count": 672,
   "metadata": {},
   "outputs": [],
   "source": [
    "combined=pd.concat([df_train,df_test])"
   ]
  },
  {
   "cell_type": "markdown",
   "metadata": {},
   "source": [
    "### Feature Selection"
   ]
  },
  {
   "cell_type": "code",
   "execution_count": 673,
   "metadata": {
    "collapsed": true
   },
   "outputs": [
    {
     "data": {
      "text/plain": [
       "Index(['Freq_Of_Word_1', 'Freq_Of_Word_2', 'Freq_Of_Word_3', 'Freq_Of_Word_4',\n",
       "       'Freq_Of_Word_5', 'Freq_Of_Word_6', 'Freq_Of_Word_7', 'Freq_Of_Word_8',\n",
       "       'Freq_Of_Word_9', 'Freq_Of_Word_10', 'Freq_Of_Word_11',\n",
       "       'Freq_Of_Word_12', 'Freq_Of_Word_13', 'Freq_Of_Word_14',\n",
       "       'Freq_Of_Word_15', 'Freq_Of_Word_16', 'Freq_Of_Word_17',\n",
       "       'Freq_Of_Word_18', 'Freq_Of_Word_19', 'Freq_Of_Word_20',\n",
       "       'Freq_Of_Word_21', 'Freq_Of_Word_22', 'Freq_Of_Word_23',\n",
       "       'Freq_Of_Word_24', 'Freq_Of_Word_25', 'Freq_Of_Word_26',\n",
       "       'Freq_Of_Word_27', 'Freq_Of_Word_28', 'Freq_Of_Word_29',\n",
       "       'Freq_Of_Word_30', 'Freq_Of_Word_31', 'Freq_Of_Word_32',\n",
       "       'Freq_Of_Word_33', 'Freq_Of_Word_34', 'Freq_Of_Word_35',\n",
       "       'Freq_Of_Word_36', 'Freq_Of_Word_37', 'Freq_Of_Word_38',\n",
       "       'Freq_Of_Word_39', 'Freq_Of_Word_40', 'Freq_Of_Word_41',\n",
       "       'Freq_Of_Word_42', 'Freq_Of_Word_43', 'Freq_Of_Word_44',\n",
       "       'Freq_Of_Word_45', 'Freq_Of_Word_46', 'Freq_Of_Word_47',\n",
       "       'Freq_Of_Word_48', 'Freq_Of_Word_49', 'Freq_Of_Word_50',\n",
       "       'TotalEmojiCharacters', 'LengthOFFirstParagraph', 'StylizedLetters',\n",
       "       'IsGoodNews'],\n",
       "      dtype='object')"
      ]
     },
     "execution_count": 673,
     "metadata": {},
     "output_type": "execute_result"
    }
   ],
   "source": [
    "df_train.columns"
   ]
  },
  {
   "cell_type": "code",
   "execution_count": 638,
   "metadata": {},
   "outputs": [
    {
     "data": {
      "text/plain": [
       "339"
      ]
     },
     "execution_count": 638,
     "metadata": {},
     "output_type": "execute_result"
    }
   ],
   "source": [
    "combined[\"Freq_Of_Word_4\"].idxmax(axis=1)\n",
    "#combined[\"Freq_Of_Word_4\"]."
   ]
  },
  {
   "cell_type": "code",
   "execution_count": 674,
   "metadata": {},
   "outputs": [],
   "source": [
    "from sklearn.feature_selection import VarianceThreshold\n",
    "from sklearn.metrics import roc_auc_score,classification_report,confusion_matrix\n",
    "from sklearn.ensemble import RandomForestClassifier"
   ]
  },
  {
   "cell_type": "code",
   "execution_count": 675,
   "metadata": {
    "scrolled": true
   },
   "outputs": [
    {
     "data": {
      "text/plain": [
       "array([1.05019584, 1.10813495, 1.04009692, 1.16302118, 1.04499575,\n",
       "       1.11351481, 0.84384564, 0.97457712, 1.15050515, 1.02784015,\n",
       "       1.13897482, 0.99790038, 0.79057837, 1.05025953, 0.97731159,\n",
       "       0.77687699, 1.00270051, 0.99687213, 0.989891  , 1.07608848,\n",
       "       1.03037188, 0.9689125 , 0.89280485, 0.65123825, 0.9713756 ,\n",
       "       1.08543957, 1.09945962, 1.07171636, 1.03083154, 0.86484648,\n",
       "       0.58342768, 0.99954868, 1.08798099, 0.9999672 , 0.97579573,\n",
       "       1.00389159, 0.99471151, 1.41176971, 1.1054026 , 0.97384859,\n",
       "       1.19151115, 1.19369009, 0.97433373, 1.3358072 , 1.18685989,\n",
       "       1.11526707, 0.85729152, 1.2525901 , 1.11675375, 0.68814486,\n",
       "       1.14003084, 0.3122821 , 0.81258887, 0.23758905])"
      ]
     },
     "execution_count": 675,
     "metadata": {},
     "output_type": "execute_result"
    }
   ],
   "source": [
    "selector = VarianceThreshold()\n",
    "selector.fit_transform(combined)\n",
    "\n",
    "selector.variances_"
   ]
  },
  {
   "cell_type": "code",
   "execution_count": 641,
   "metadata": {},
   "outputs": [
    {
     "data": {
      "text/plain": [
       "array([ True,  True,  True, False,  True,  True,  True,  True,  True,\n",
       "        True,  True,  True,  True,  True,  True,  True,  True,  True,\n",
       "        True,  True,  True,  True,  True,  True,  True,  True,  True,\n",
       "        True,  True,  True,  True,  True,  True,  True,  True,  True,\n",
       "        True,  True,  True,  True,  True,  True,  True,  True,  True,\n",
       "        True,  True,  True,  True,  True,  True,  True,  True])"
      ]
     },
     "execution_count": 641,
     "metadata": {},
     "output_type": "execute_result"
    }
   ],
   "source": [
    "varModel=VarianceThreshold(threshold=(.8 * (1 - .8))) #Setting variance threshold to 0 which means features that have same value in all samples.\n",
    "varModel.fit(df_test)\n",
    "constArr=varModel.get_support()\n",
    "constArr"
   ]
  },
  {
   "cell_type": "code",
   "execution_count": 642,
   "metadata": {},
   "outputs": [
    {
     "data": {
      "text/plain": [
       "VarianceThreshold(threshold=0.15999999999999998)"
      ]
     },
     "execution_count": 642,
     "metadata": {},
     "output_type": "execute_result"
    }
   ],
   "source": [
    "quasiModel=VarianceThreshold(threshold=(.8 * (1 - .8)))\n",
    " #It will search for the features having 99% of same value in all samples.\n",
    "quasiModel.fit(combined)"
   ]
  },
  {
   "cell_type": "code",
   "execution_count": 643,
   "metadata": {
    "scrolled": false
   },
   "outputs": [
    {
     "data": {
      "text/plain": [
       "array([ True,  True,  True,  True,  True,  True,  True,  True,  True,\n",
       "        True,  True,  True,  True,  True,  True,  True,  True,  True,\n",
       "        True,  True,  True,  True,  True,  True,  True,  True,  True,\n",
       "        True,  True,  True,  True,  True,  True,  True,  True,  True,\n",
       "        True,  True,  True,  True,  True,  True,  True,  True,  True,\n",
       "        True,  True,  True,  True,  True,  True,  True,  True,  True])"
      ]
     },
     "execution_count": 643,
     "metadata": {},
     "output_type": "execute_result"
    }
   ],
   "source": [
    "quasiArr=quasiModel.get_support()\n",
    "quasiArr"
   ]
  },
  {
   "cell_type": "markdown",
   "metadata": {},
   "source": [
    "## Duplicate columns"
   ]
  },
  {
   "cell_type": "code",
   "execution_count": 644,
   "metadata": {},
   "outputs": [],
   "source": [
    "def duplicateColumns(data):\n",
    "    dupliCols=[]\n",
    "    for i in range(0,len(data.columns)):\n",
    "        col1=data.columns[i]\n",
    "        for col2 in data.columns[i+1:]:\n",
    "            if data[col1].equals(data[col2]):\n",
    "                dupliCols.append(col1+','+col2)\n",
    "    return dupliCols"
   ]
  },
  {
   "cell_type": "code",
   "execution_count": 645,
   "metadata": {},
   "outputs": [
    {
     "data": {
      "text/plain": [
       "[]"
      ]
     },
     "execution_count": 645,
     "metadata": {},
     "output_type": "execute_result"
    }
   ],
   "source": [
    "duplCols=duplicateColumns(combined)\n",
    "duplCols"
   ]
  },
  {
   "cell_type": "markdown",
   "metadata": {},
   "source": [
    "## Correlation columns"
   ]
  },
  {
   "cell_type": "code",
   "execution_count": 676,
   "metadata": {
    "scrolled": true
   },
   "outputs": [
    {
     "name": "stdout",
     "output_type": "stream",
     "text": [
      "Correlated columns: {'Freq_Of_Word_32', 'Freq_Of_Word_40', 'LengthOFFirstParagraph', 'Freq_Of_Word_31', 'Freq_Of_Word_35', 'Freq_Of_Word_36', 'Freq_Of_Word_34'}\n"
     ]
    }
   ],
   "source": [
    "def correlation(dataset,threshold):\n",
    "    col_corr=set() # set will contains unique values.\n",
    "    corr_matrix=dataset.corr() #finding the correlation between columns.\n",
    "    for i in range(len(corr_matrix.columns)): #number of columns\n",
    "        for j in range(i):\n",
    "            if abs(corr_matrix.iloc[i,j])>threshold: #checking the correlation between columns.\n",
    "                colName=corr_matrix.columns[i] #getting the column name\n",
    "                col_corr.add(colName) #adding the correlated column name heigher than threshold value.\n",
    "    return col_corr #returning set of column names\n",
    "col=correlation(combined,0.6)\n",
    "print('Correlated columns:',col)"
   ]
  },
  {
   "cell_type": "code",
   "execution_count": 677,
   "metadata": {
    "scrolled": true
   },
   "outputs": [
    {
     "name": "stdout",
     "output_type": "stream",
     "text": [
      "Correlated columns: {'Freq_Of_Word_32', 'Freq_Of_Word_40', 'Freq_Of_Word_34'}\n"
     ]
    }
   ],
   "source": [
    "scol=correlation(combined,0.75)\n",
    "print('Correlated columns:',scol)\n",
    "combined=combined.drop(columns=scol,axis=1)\n"
   ]
  },
  {
   "cell_type": "markdown",
   "metadata": {},
   "source": [
    "## Unique values columns"
   ]
  },
  {
   "cell_type": "code",
   "execution_count": 619,
   "metadata": {},
   "outputs": [],
   "source": [
    "# def identify_single_unique(data):\n",
    "#     \"\"\"Identifies features with only a single unique value. NaNs do not count as a unique value. \"\"\"\n",
    "#     removal_ops = {}\n",
    "        \n",
    "#     # Calculate the unique counts in each column\n",
    "#     unique_counts = data.nunique()\n",
    "\n",
    "#     unique_stats = pd.DataFrame(unique_counts).rename(columns = {'index': 'feature', 0: 'nunique'})\n",
    "\n",
    "#     # Find the columns with only one unique count\n",
    "#     record_single_unique = pd.DataFrame(unique_counts[unique_counts == 1]).reset_index().rename(columns = {'index': 'feature', 0: 'nunique'})\n",
    "\n",
    "#     to_drop = list(record_single_unique['feature'])\n",
    "\n",
    "#     record_single_unique = record_single_unique\n",
    "#     removal_ops['single_unique'] = to_drop\n",
    "\n",
    "#     print('%d features with a single unique value.\\n' % len(removal_ops['single_unique']))\n"
   ]
  },
  {
   "cell_type": "code",
   "execution_count": 620,
   "metadata": {
    "scrolled": true
   },
   "outputs": [
    {
     "name": "stdout",
     "output_type": "stream",
     "text": [
      "0 features with a single unique value.\n",
      "\n"
     ]
    }
   ],
   "source": [
    "identify_single_unique(combined)"
   ]
  },
  {
   "cell_type": "markdown",
   "metadata": {},
   "source": [
    "## Feature Selection SKlearn"
   ]
  },
  {
   "cell_type": "code",
   "execution_count": 530,
   "metadata": {},
   "outputs": [],
   "source": [
    "from sklearn.feature_selection import SelectKBest\n",
    "from sklearn.feature_selection import chi2"
   ]
  },
  {
   "cell_type": "code",
   "execution_count": 678,
   "metadata": {},
   "outputs": [],
   "source": [
    "df_train=combined.iloc[:947,]\n",
    "Y = df_train['IsGoodNews']\n",
    "X = df_train.drop('IsGoodNews', axis=1)"
   ]
  },
  {
   "cell_type": "code",
   "execution_count": 532,
   "metadata": {},
   "outputs": [],
   "source": [
    "# bestfeatures = SelectKBest(score_func=chi2, k=10)\n",
    "# fit = bestfeatures.fit(X,Y)"
   ]
  },
  {
   "cell_type": "code",
   "execution_count": 533,
   "metadata": {},
   "outputs": [],
   "source": [
    "#X_train=X_train.drop(columns=scol,axis=1)\n",
    "#X_test=X_test.drop(columns=scol,axis=1)\n"
   ]
  },
  {
   "cell_type": "code",
   "execution_count": 534,
   "metadata": {},
   "outputs": [],
   "source": [
    "from sklearn.metrics import f1_score\n",
    "from xgboost import XGBClassifier\n",
    "import xgboost as xgb\n",
    "from sklearn.model_selection import train_test_split\n",
    "from sklearn.neighbors import KNeighborsClassifier\n",
    "from sklearn.linear_model import LogisticRegression\n",
    "from sklearn.naive_bayes import GaussianNB\n",
    "from sklearn.tree import DecisionTreeClassifier\n",
    "from sklearn.ensemble import RandomForestClassifier\n",
    "from sklearn.ensemble import GradientBoostingClassifier\n",
    "from sklearn.svm import SVC\n",
    "from sklearn.svm import SVC, LinearSVC"
   ]
  },
  {
   "cell_type": "markdown",
   "metadata": {},
   "source": [
    "## Modelling"
   ]
  },
  {
   "cell_type": "code",
   "execution_count": 535,
   "metadata": {},
   "outputs": [],
   "source": [
    "# df_train=pd.read_csv(\"Train.csv\")\n",
    "# df_test=pd.read_csv(\"Test.csv\")\n",
    "# combined=pd.concat([df_train,df_test])"
   ]
  },
  {
   "cell_type": "code",
   "execution_count": 572,
   "metadata": {},
   "outputs": [],
   "source": [
    "df_train=combined.iloc[:947,]\n",
    "df_test=combined.iloc[947:,]\n",
    "#df_train.drop([\"IsGoodNews\"],axis=1,inplace=True)\n",
    "#df_train[\"IsGoodNews\"]=df_train[\"IsGoodNews\"].astype(int)"
   ]
  },
  {
   "cell_type": "code",
   "execution_count": 665,
   "metadata": {},
   "outputs": [],
   "source": [
    "X_train, X_test, Y_train, Y_test = train_test_split(df_train.drop(labels=['IsGoodNews'], axis=1),df_train['IsGoodNews'],test_size=0.3,random_state=0)"
   ]
  },
  {
   "cell_type": "code",
   "execution_count": 666,
   "metadata": {
    "scrolled": true
   },
   "outputs": [
    {
     "name": "stdout",
     "output_type": "stream",
     "text": [
      "Cross-validation of : <class 'sklearn.linear_model._logistic.LogisticRegression'>\n",
      "CV score = 91.23\n",
      "F1 Score score = 0.8858447488584474\n",
      "Cross-validation of : <class 'sklearn.neighbors._classification.KNeighborsClassifier'>\n",
      "CV score = 85.96\n",
      "F1 Score score = 0.8165137614678899\n",
      "Cross-validation of : <class 'sklearn.naive_bayes.GaussianNB'>\n",
      "CV score = 84.21\n",
      "F1 Score score = 0.830188679245283\n",
      "Cross-validation of : <class 'sklearn.svm._classes.LinearSVC'>\n",
      "CV score = 91.58\n",
      "F1 Score score = 0.8909090909090909\n",
      "Cross-validation of : <class 'sklearn.ensemble._forest.RandomForestClassifier'>\n",
      "CV score = 93.33\n",
      "F1 Score score = 0.914798206278027\n",
      "Cross-validation of : <class 'sklearn.ensemble._gb.GradientBoostingClassifier'>\n",
      "CV score = 92.28\n",
      "F1 Score score = 0.9017857142857143\n",
      "Cross-validation of : <class 'xgboost.sklearn.XGBClassifier'>\n",
      "CV score = 92.98\n",
      "F1 Score score = 0.9107142857142857\n",
      "Cross-validation of : <class 'sklearn.tree._classes.DecisionTreeClassifier'>\n",
      "CV score = 84.91\n",
      "F1 Score score = 0.8138528138528137\n"
     ]
    }
   ],
   "source": [
    "def compute_score(clf, X, y, scoring='accuracy'):\n",
    "    xval = cross_val_score(clf, X, y, cv = 5, scoring=scoring)\n",
    "    return np.mean(xval)\n",
    "\n",
    "logreg = LogisticRegression()\n",
    "knn = KNeighborsClassifier(n_neighbors = 3)\n",
    "xgb=XGBClassifier()\n",
    "gaussian = GaussianNB()\n",
    "linear_svc = LinearSVC()\n",
    "decision_tree = DecisionTreeClassifier()\n",
    "#perceptron = Perceptron(max_iter=5)\n",
    "rf = RandomForestClassifier()\n",
    "gboost = GradientBoostingClassifier()\n",
    "\n",
    "\n",
    "models = [logreg,knn,gaussian, linear_svc,rf, gboost,xgb,decision_tree ]\n",
    "for model in models:\n",
    "    print ('Cross-validation of : {0}'.format(model.__class__))\n",
    "    #score = compute_score(clf=model, X=X_train, y=Y_train, scoring='accuracy')\n",
    "    model.fit(X_train,Y_train)\n",
    "    score=round(model.score(X_test, Y_test) * 100, 2)\n",
    "    predictions = model.predict(X_test)\n",
    "    accuracy = f1_score(Y_test, predictions)\n",
    "    print ('CV score = {0}'.format(score))\n",
    "    print ('F1 Score score = {0}'.format(accuracy))\n",
    "\n"
   ]
  },
  {
   "cell_type": "markdown",
   "metadata": {},
   "source": [
    "## LIGHTGBM"
   ]
  },
  {
   "cell_type": "code",
   "execution_count": 266,
   "metadata": {},
   "outputs": [],
   "source": [
    "# Y_train = df_train['IsGoodNews']\n",
    "# X_train = df_train.drop('IsGoodNews', axis=1)"
   ]
  },
  {
   "cell_type": "code",
   "execution_count": 501,
   "metadata": {},
   "outputs": [],
   "source": [
    "d_train = lgb.Dataset(X_train, label=Y_train)"
   ]
  },
  {
   "cell_type": "code",
   "execution_count": 539,
   "metadata": {
    "scrolled": true
   },
   "outputs": [],
   "source": [
    "# params = {}\n",
    "# params['learning_rate'] = 0.1\n",
    "# params['boosting_type'] = 'gbdt'\n",
    "# params['objective'] = 'binary'\n",
    "# params['metric'] = 'binary_logloss'\n",
    "# params['sub_feature'] = 1\n",
    "# params['num_leaves'] = 10\n",
    "# params['min_data'] = 2\n",
    "# params['max_depth'] = 6\n",
    "#clf = lgb.train(params, d_train, 200)\n",
    "# prediction=pd.DataFrame(clf.predict(df_test.drop([\"IsGoodNews\"],axis=1)),columns=['IsGoodNews'])\n",
    "# #score=f1_score(Y_test,prediction)\n"
   ]
  },
  {
   "cell_type": "markdown",
   "metadata": {},
   "source": [
    "## Feature Importance"
   ]
  },
  {
   "cell_type": "code",
   "execution_count": 540,
   "metadata": {
    "scrolled": false
   },
   "outputs": [],
   "source": [
    "# model.get_score(importance_type='gain')"
   ]
  },
  {
   "cell_type": "code",
   "execution_count": 667,
   "metadata": {
    "scrolled": true
   },
   "outputs": [
    {
     "name": "stdout",
     "output_type": "stream",
     "text": [
      "Thresh=0.000, n=53, Accuracy: 91.82%\n",
      "Thresh=0.000, n=53, Accuracy: 91.82%\n",
      "Thresh=0.000, n=53, Accuracy: 91.82%\n",
      "Thresh=0.000, n=53, Accuracy: 91.82%\n",
      "Thresh=0.000, n=53, Accuracy: 91.82%\n",
      "Thresh=0.000, n=53, Accuracy: 91.82%\n",
      "Thresh=0.000, n=53, Accuracy: 91.82%\n",
      "Thresh=0.000, n=53, Accuracy: 91.82%\n",
      "Thresh=0.000, n=53, Accuracy: 91.82%\n",
      "Thresh=0.000, n=53, Accuracy: 91.82%\n",
      "Thresh=0.000, n=53, Accuracy: 91.82%\n",
      "Thresh=0.000, n=53, Accuracy: 91.82%\n",
      "Thresh=0.000, n=53, Accuracy: 91.82%\n",
      "Thresh=0.000, n=53, Accuracy: 91.82%\n",
      "Thresh=0.000, n=53, Accuracy: 91.82%\n",
      "Thresh=0.000, n=53, Accuracy: 91.82%\n",
      "Thresh=0.000, n=53, Accuracy: 91.82%\n",
      "Thresh=0.000, n=53, Accuracy: 91.82%\n",
      "Thresh=0.000, n=53, Accuracy: 91.82%\n",
      "Thresh=0.001, n=34, Accuracy: 91.40%\n",
      "Thresh=0.003, n=33, Accuracy: 89.29%\n",
      "Thresh=0.005, n=32, Accuracy: 90.58%\n",
      "Thresh=0.005, n=31, Accuracy: 89.69%\n",
      "Thresh=0.005, n=30, Accuracy: 89.78%\n",
      "Thresh=0.005, n=29, Accuracy: 89.78%\n",
      "Thresh=0.006, n=28, Accuracy: 88.79%\n",
      "Thresh=0.006, n=27, Accuracy: 89.29%\n",
      "Thresh=0.006, n=26, Accuracy: 89.29%\n",
      "Thresh=0.006, n=25, Accuracy: 90.18%\n",
      "Thresh=0.006, n=24, Accuracy: 88.89%\n",
      "Thresh=0.008, n=23, Accuracy: 89.69%\n",
      "Thresh=0.008, n=22, Accuracy: 88.79%\n",
      "Thresh=0.010, n=21, Accuracy: 88.99%\n",
      "Thresh=0.010, n=20, Accuracy: 88.89%\n",
      "Thresh=0.011, n=19, Accuracy: 88.89%\n",
      "Thresh=0.012, n=18, Accuracy: 89.78%\n",
      "Thresh=0.013, n=17, Accuracy: 89.69%\n",
      "Thresh=0.014, n=16, Accuracy: 88.99%\n",
      "Thresh=0.015, n=15, Accuracy: 87.22%\n",
      "Thresh=0.015, n=14, Accuracy: 87.61%\n",
      "Thresh=0.016, n=13, Accuracy: 86.84%\n",
      "Thresh=0.017, n=12, Accuracy: 87.61%\n",
      "Thresh=0.017, n=11, Accuracy: 86.09%\n",
      "Thresh=0.018, n=10, Accuracy: 87.34%\n",
      "Thresh=0.020, n=9, Accuracy: 86.58%\n",
      "Thresh=0.021, n=8, Accuracy: 86.09%\n",
      "Thresh=0.033, n=7, Accuracy: 84.98%\n",
      "Thresh=0.046, n=6, Accuracy: 78.97%\n",
      "Thresh=0.052, n=5, Accuracy: 79.65%\n",
      "Thresh=0.076, n=4, Accuracy: 77.06%\n",
      "Thresh=0.078, n=3, Accuracy: 81.65%\n",
      "Thresh=0.154, n=2, Accuracy: 79.17%\n",
      "Thresh=0.281, n=1, Accuracy: 67.44%\n"
     ]
    }
   ],
   "source": [
    "from numpy import sort\n",
    "from sklearn.feature_selection import SelectFromModel\n",
    "from sklearn.metrics import accuracy_score\n",
    "thresholds = sort(model.feature_importances_)\n",
    "#thresholds=0.0001\n",
    "for thresh in thresholds:\n",
    "\t# select features using threshold\n",
    "\tselection = SelectFromModel(model, threshold=thresh, prefit=True)\n",
    "\tselect_X_train = selection.transform(X_train)\n",
    "\t# train model\n",
    "\tselection_model = XGBClassifier(n_estimators=800,max_depth=6)\n",
    "\tselection_model.fit(select_X_train, Y_train)\n",
    "\t# eval model\n",
    "\tselect_X_test = selection.transform(X_test)\n",
    "\tpredictions = selection_model.predict(select_X_test)\n",
    "\taccuracy = f1_score(Y_test, predictions)\n",
    "\tprint(\"Thresh=%.3f, n=%d, Accuracy: %.2f%%\" % (thresh, select_X_train.shape[1], accuracy*100.0))"
   ]
  },
  {
   "cell_type": "code",
   "execution_count": 327,
   "metadata": {},
   "outputs": [],
   "source": [
    "selection = SelectFromModel(model, threshold=0.00001, prefit=True)\n",
    "X_train = selection.transform(X_train)\n",
    "X_test= selection.transform(X_test)"
   ]
  },
  {
   "cell_type": "code",
   "execution_count": 328,
   "metadata": {},
   "outputs": [
    {
     "data": {
      "text/plain": [
       "(662, 50)"
      ]
     },
     "execution_count": 328,
     "metadata": {},
     "output_type": "execute_result"
    }
   ],
   "source": [
    "X_train.shape"
   ]
  },
  {
   "cell_type": "code",
   "execution_count": 331,
   "metadata": {
    "scrolled": false
   },
   "outputs": [
    {
     "data": {
      "text/plain": [
       "XGBClassifier(base_score=0.5, booster=None, colsample_bylevel=1,\n",
       "              colsample_bynode=1, colsample_bytree=1, gamma=0, gpu_id=-1,\n",
       "              importance_type='gain', interaction_constraints=None,\n",
       "              learning_rate=0.300000012, max_delta_step=0, max_depth=6,\n",
       "              min_child_weight=1, missing=nan, monotone_constraints=None,\n",
       "              n_estimators=800, n_jobs=0, num_parallel_tree=1,\n",
       "              objective='binary:logistic', random_state=1, reg_alpha=0,\n",
       "              reg_lambda=1, scale_pos_weight=1, subsample=1, tree_method=None,\n",
       "              validate_parameters=False, verbosity=None)"
      ]
     },
     "execution_count": 331,
     "metadata": {},
     "output_type": "execute_result"
    }
   ],
   "source": [
    "rf = XGBClassifier(n_estimators=800, random_state=1, max_depth=6)\n",
    "rf.fit(X_train,Y_train)\n"
   ]
  },
  {
   "cell_type": "code",
   "execution_count": 332,
   "metadata": {},
   "outputs": [
    {
     "name": "stdout",
     "output_type": "stream",
     "text": [
      "0.9181818181818182\n"
     ]
    }
   ],
   "source": [
    "predictions = rf.predict(X_test)\n",
    "print(f1_score(Y_test, predictions))\n"
   ]
  },
  {
   "cell_type": "code",
   "execution_count": 339,
   "metadata": {},
   "outputs": [
    {
     "ename": "AttributeError",
     "evalue": "'XGBClassifier' object has no attribute 'get_fscore'",
     "output_type": "error",
     "traceback": [
      "\u001b[0;31m---------------------------------------------------------------------------\u001b[0m",
      "\u001b[0;31mAttributeError\u001b[0m                            Traceback (most recent call last)",
      "\u001b[0;32m<ipython-input-339-5b84986703ff>\u001b[0m in \u001b[0;36m<module>\u001b[0;34m\u001b[0m\n\u001b[0;32m----> 1\u001b[0;31m \u001b[0mimportance\u001b[0m \u001b[0;34m=\u001b[0m \u001b[0mrf\u001b[0m\u001b[0;34m.\u001b[0m\u001b[0mget_fscore\u001b[0m\u001b[0;34m(\u001b[0m\u001b[0mfmap\u001b[0m\u001b[0;34m=\u001b[0m\u001b[0;34m'xgb.fmap'\u001b[0m\u001b[0;34m)\u001b[0m\u001b[0;34m\u001b[0m\u001b[0;34m\u001b[0m\u001b[0m\n\u001b[0m",
      "\u001b[0;31mAttributeError\u001b[0m: 'XGBClassifier' object has no attribute 'get_fscore'"
     ]
    }
   ],
   "source": [
    "importance = rf.get_fscore(fmap='xgb.fmap')"
   ]
  },
  {
   "cell_type": "code",
   "execution_count": 342,
   "metadata": {},
   "outputs": [
    {
     "data": {
      "text/plain": [
       "<matplotlib.axes._subplots.AxesSubplot at 0x7fc41ad19278>"
      ]
     },
     "execution_count": 342,
     "metadata": {},
     "output_type": "execute_result"
    },
    {
     "data": {
      "text/plain": [
       "<Figure size 1440x720 with 0 Axes>"
      ]
     },
     "metadata": {},
     "output_type": "display_data"
    },
    {
     "data": {
      "image/png": "[encoded data removed]",
      "text/plain": [
       "<Figure size 432x288 with 1 Axes>"
      ]
     },
     "metadata": {
      "needs_background": "light"
     },
     "output_type": "display_data"
    }
   ],
   "source": [
    "from xgboost import plot_importance\n",
    "plt.figure(figsize=(20,10))\n",
    "plot_importance(rf, max_num_features=10)"
   ]
  },
  {
   "cell_type": "code",
   "execution_count": 150,
   "metadata": {},
   "outputs": [
    {
     "name": "stdout",
     "output_type": "stream",
     "text": [
      "[0.0421056  0.03365225 0.28152325 0.         0.04545466 0.01109459\n",
      " 0.1605326  0.         0.04374242 0.00536232 0.00563397 0.\n",
      " 0.         0.         0.00516189 0.0232725  0.00287083 0.00599515\n",
      " 0.00625383 0.         0.00569206 0.         0.         0.01974096\n",
      " 0.06505574 0.         0.00572417 0.00636019 0.02331181 0.04262243\n",
      " 0.02999101 0.12884577]\n"
     ]
    }
   ],
   "source": [
    "#plot_importance(rf, height=1)\n"
   ]
  },
  {
   "cell_type": "code",
   "execution_count": 650,
   "metadata": {
    "scrolled": true
   },
   "outputs": [],
   "source": [
    "df_train=combined.iloc[:947,]\n",
    "df_test=combined.iloc[947:,]\n",
    "#df_train.drop([\"IsGoodNews\"],axis=1,inplace=True)\n",
    "#df_train[\"IsGoodNews\"]=df_train[\"IsGoodNews\"].astype(int)"
   ]
  },
  {
   "cell_type": "code",
   "execution_count": null,
   "metadata": {},
   "outputs": [],
   "source": []
  },
  {
   "cell_type": "code",
   "execution_count": 651,
   "metadata": {},
   "outputs": [],
   "source": [
    "Y_train = df_train['IsGoodNews']\n",
    "X_train = df_train.drop('IsGoodNews', axis=1)"
   ]
  },
  {
   "cell_type": "code",
   "execution_count": 652,
   "metadata": {},
   "outputs": [],
   "source": [
    "X_test=df_test.copy()"
   ]
  },
  {
   "cell_type": "code",
   "execution_count": 653,
   "metadata": {
    "scrolled": true
   },
   "outputs": [
    {
     "data": {
      "text/plain": [
       "(947, 51)"
      ]
     },
     "execution_count": 653,
     "metadata": {},
     "output_type": "execute_result"
    }
   ],
   "source": [
    "df_train.shape"
   ]
  },
  {
   "cell_type": "code",
   "execution_count": 654,
   "metadata": {},
   "outputs": [
    {
     "data": {
      "text/plain": [
       "XGBClassifier(base_score=0.5, booster=None, colsample_bylevel=1,\n",
       "              colsample_bynode=1, colsample_bytree=1, gamma=0, gpu_id=-1,\n",
       "              importance_type='gain', interaction_constraints=None,\n",
       "              learning_rate=0.300000012, max_delta_step=0, max_depth=6,\n",
       "              min_child_weight=1, missing=nan, monotone_constraints=None,\n",
       "              n_estimators=100, n_jobs=0, num_parallel_tree=1,\n",
       "              objective='binary:logistic', random_state=0, reg_alpha=0,\n",
       "              reg_lambda=1, scale_pos_weight=1, subsample=1, tree_method=None,\n",
       "              validate_parameters=False, verbosity=None)"
      ]
     },
     "execution_count": 654,
     "metadata": {},
     "output_type": "execute_result"
    }
   ],
   "source": [
    "\n",
    "rf = XGBClassifier()\n",
    "rf.fit(X_train,Y_train)"
   ]
  },
  {
   "cell_type": "code",
   "execution_count": 655,
   "metadata": {
    "collapsed": true
   },
   "outputs": [
    {
     "ename": "ValueError",
     "evalue": "feature_names mismatch: ['Freq_Of_Word_1', 'Freq_Of_Word_2', 'Freq_Of_Word_3', 'Freq_Of_Word_4', 'Freq_Of_Word_5', 'Freq_Of_Word_6', 'Freq_Of_Word_7', 'Freq_Of_Word_8', 'Freq_Of_Word_9', 'Freq_Of_Word_10', 'Freq_Of_Word_11', 'Freq_Of_Word_12', 'Freq_Of_Word_13', 'Freq_Of_Word_14', 'Freq_Of_Word_15', 'Freq_Of_Word_16', 'Freq_Of_Word_17', 'Freq_Of_Word_18', 'Freq_Of_Word_19', 'Freq_Of_Word_20', 'Freq_Of_Word_21', 'Freq_Of_Word_22', 'Freq_Of_Word_23', 'Freq_Of_Word_24', 'Freq_Of_Word_25', 'Freq_Of_Word_26', 'Freq_Of_Word_27', 'Freq_Of_Word_28', 'Freq_Of_Word_29', 'Freq_Of_Word_30', 'Freq_Of_Word_31', 'Freq_Of_Word_33', 'Freq_Of_Word_35', 'Freq_Of_Word_36', 'Freq_Of_Word_37', 'Freq_Of_Word_38', 'Freq_Of_Word_39', 'Freq_Of_Word_41', 'Freq_Of_Word_42', 'Freq_Of_Word_43', 'Freq_Of_Word_44', 'Freq_Of_Word_45', 'Freq_Of_Word_46', 'Freq_Of_Word_47', 'Freq_Of_Word_48', 'Freq_Of_Word_49', 'Freq_Of_Word_50', 'TotalEmojiCharacters', 'LengthOFFirstParagraph', 'StylizedLetters'] ['Freq_Of_Word_1', 'Freq_Of_Word_2', 'Freq_Of_Word_3', 'Freq_Of_Word_4', 'Freq_Of_Word_5', 'Freq_Of_Word_6', 'Freq_Of_Word_7', 'Freq_Of_Word_8', 'Freq_Of_Word_9', 'Freq_Of_Word_10', 'Freq_Of_Word_11', 'Freq_Of_Word_12', 'Freq_Of_Word_13', 'Freq_Of_Word_14', 'Freq_Of_Word_15', 'Freq_Of_Word_16', 'Freq_Of_Word_17', 'Freq_Of_Word_18', 'Freq_Of_Word_19', 'Freq_Of_Word_20', 'Freq_Of_Word_21', 'Freq_Of_Word_22', 'Freq_Of_Word_23', 'Freq_Of_Word_24', 'Freq_Of_Word_25', 'Freq_Of_Word_26', 'Freq_Of_Word_27', 'Freq_Of_Word_28', 'Freq_Of_Word_29', 'Freq_Of_Word_30', 'Freq_Of_Word_31', 'Freq_Of_Word_33', 'Freq_Of_Word_35', 'Freq_Of_Word_36', 'Freq_Of_Word_37', 'Freq_Of_Word_38', 'Freq_Of_Word_39', 'Freq_Of_Word_41', 'Freq_Of_Word_42', 'Freq_Of_Word_43', 'Freq_Of_Word_44', 'Freq_Of_Word_45', 'Freq_Of_Word_46', 'Freq_Of_Word_47', 'Freq_Of_Word_48', 'Freq_Of_Word_49', 'Freq_Of_Word_50', 'TotalEmojiCharacters', 'LengthOFFirstParagraph', 'StylizedLetters', 'IsGoodNews']\ntraining data did not have the following fields: IsGoodNews",
     "output_type": "error",
     "traceback": [
      "\u001b[0;31m---------------------------------------------------------------------------\u001b[0m",
      "\u001b[0;31mValueError\u001b[0m                                Traceback (most recent call last)",
      "\u001b[0;32m<ipython-input-655-2a6f00ec4e9c>\u001b[0m in \u001b[0;36m<module>\u001b[0;34m\u001b[0m\n\u001b[0;32m----> 1\u001b[0;31m \u001b[0mscore\u001b[0m\u001b[0;34m=\u001b[0m\u001b[0mround\u001b[0m\u001b[0;34m(\u001b[0m\u001b[0mrf\u001b[0m\u001b[0;34m.\u001b[0m\u001b[0mscore\u001b[0m\u001b[0;34m(\u001b[0m\u001b[0mX_test\u001b[0m\u001b[0;34m,\u001b[0m \u001b[0mY_test\u001b[0m\u001b[0;34m)\u001b[0m \u001b[0;34m*\u001b[0m \u001b[0;36m100\u001b[0m\u001b[0;34m,\u001b[0m \u001b[0;36m2\u001b[0m\u001b[0;34m)\u001b[0m\u001b[0;34m\u001b[0m\u001b[0;34m\u001b[0m\u001b[0m\n\u001b[0m",
      "\u001b[0;32m~/.local/lib/python3.6/site-packages/sklearn/base.py\u001b[0m in \u001b[0;36mscore\u001b[0;34m(self, X, y, sample_weight)\u001b[0m\n\u001b[1;32m    367\u001b[0m         \"\"\"\n\u001b[1;32m    368\u001b[0m         \u001b[0;32mfrom\u001b[0m \u001b[0;34m.\u001b[0m\u001b[0mmetrics\u001b[0m \u001b[0;32mimport\u001b[0m \u001b[0maccuracy_score\u001b[0m\u001b[0;34m\u001b[0m\u001b[0;34m\u001b[0m\u001b[0m\n\u001b[0;32m--> 369\u001b[0;31m         \u001b[0;32mreturn\u001b[0m \u001b[0maccuracy_score\u001b[0m\u001b[0;34m(\u001b[0m\u001b[0my\u001b[0m\u001b[0;34m,\u001b[0m \u001b[0mself\u001b[0m\u001b[0;34m.\u001b[0m\u001b[0mpredict\u001b[0m\u001b[0;34m(\u001b[0m\u001b[0mX\u001b[0m\u001b[0;34m)\u001b[0m\u001b[0;34m,\u001b[0m \u001b[0msample_weight\u001b[0m\u001b[0;34m=\u001b[0m\u001b[0msample_weight\u001b[0m\u001b[0;34m)\u001b[0m\u001b[0;34m\u001b[0m\u001b[0;34m\u001b[0m\u001b[0m\n\u001b[0m\u001b[1;32m    370\u001b[0m \u001b[0;34m\u001b[0m\u001b[0m\n\u001b[1;32m    371\u001b[0m \u001b[0;34m\u001b[0m\u001b[0m\n",
      "\u001b[0;32m~/.local/lib/python3.6/site-packages/xgboost/sklearn.py\u001b[0m in \u001b[0;36mpredict\u001b[0;34m(self, data, output_margin, ntree_limit, validate_features, base_margin)\u001b[0m\n\u001b[1;32m    885\u001b[0m             \u001b[0moutput_margin\u001b[0m\u001b[0;34m=\u001b[0m\u001b[0moutput_margin\u001b[0m\u001b[0;34m,\u001b[0m\u001b[0;34m\u001b[0m\u001b[0;34m\u001b[0m\u001b[0m\n\u001b[1;32m    886\u001b[0m             \u001b[0mntree_limit\u001b[0m\u001b[0;34m=\u001b[0m\u001b[0mntree_limit\u001b[0m\u001b[0;34m,\u001b[0m\u001b[0;34m\u001b[0m\u001b[0;34m\u001b[0m\u001b[0m\n\u001b[0;32m--> 887\u001b[0;31m             validate_features=validate_features)\n\u001b[0m\u001b[1;32m    888\u001b[0m         \u001b[0;32mif\u001b[0m \u001b[0moutput_margin\u001b[0m\u001b[0;34m:\u001b[0m\u001b[0;34m\u001b[0m\u001b[0;34m\u001b[0m\u001b[0m\n\u001b[1;32m    889\u001b[0m             \u001b[0;31m# If output_margin is active, simply return the scores\u001b[0m\u001b[0;34m\u001b[0m\u001b[0;34m\u001b[0m\u001b[0;34m\u001b[0m\u001b[0m\n",
      "\u001b[0;32m~/.local/lib/python3.6/site-packages/xgboost/core.py\u001b[0m in \u001b[0;36mpredict\u001b[0;34m(self, data, output_margin, ntree_limit, pred_leaf, pred_contribs, approx_contribs, pred_interactions, validate_features, training)\u001b[0m\n\u001b[1;32m   1440\u001b[0m \u001b[0;34m\u001b[0m\u001b[0m\n\u001b[1;32m   1441\u001b[0m         \u001b[0;32mif\u001b[0m \u001b[0mvalidate_features\u001b[0m\u001b[0;34m:\u001b[0m\u001b[0;34m\u001b[0m\u001b[0;34m\u001b[0m\u001b[0m\n\u001b[0;32m-> 1442\u001b[0;31m             \u001b[0mself\u001b[0m\u001b[0;34m.\u001b[0m\u001b[0m_validate_features\u001b[0m\u001b[0;34m(\u001b[0m\u001b[0mdata\u001b[0m\u001b[0;34m)\u001b[0m\u001b[0;34m\u001b[0m\u001b[0;34m\u001b[0m\u001b[0m\n\u001b[0m\u001b[1;32m   1443\u001b[0m \u001b[0;34m\u001b[0m\u001b[0m\n\u001b[1;32m   1444\u001b[0m         \u001b[0mlength\u001b[0m \u001b[0;34m=\u001b[0m \u001b[0mc_bst_ulong\u001b[0m\u001b[0;34m(\u001b[0m\u001b[0;34m)\u001b[0m\u001b[0;34m\u001b[0m\u001b[0;34m\u001b[0m\u001b[0m\n",
      "\u001b[0;32m~/.local/lib/python3.6/site-packages/xgboost/core.py\u001b[0m in \u001b[0;36m_validate_features\u001b[0;34m(self, data)\u001b[0m\n\u001b[1;32m   1852\u001b[0m \u001b[0;34m\u001b[0m\u001b[0m\n\u001b[1;32m   1853\u001b[0m                 raise ValueError(msg.format(self.feature_names,\n\u001b[0;32m-> 1854\u001b[0;31m                                             data.feature_names))\n\u001b[0m\u001b[1;32m   1855\u001b[0m \u001b[0;34m\u001b[0m\u001b[0m\n\u001b[1;32m   1856\u001b[0m     def get_split_value_histogram(self, feature, fmap='', bins=None,\n",
      "\u001b[0;31mValueError\u001b[0m: feature_names mismatch: ['Freq_Of_Word_1', 'Freq_Of_Word_2', 'Freq_Of_Word_3', 'Freq_Of_Word_4', 'Freq_Of_Word_5', 'Freq_Of_Word_6', 'Freq_Of_Word_7', 'Freq_Of_Word_8', 'Freq_Of_Word_9', 'Freq_Of_Word_10', 'Freq_Of_Word_11', 'Freq_Of_Word_12', 'Freq_Of_Word_13', 'Freq_Of_Word_14', 'Freq_Of_Word_15', 'Freq_Of_Word_16', 'Freq_Of_Word_17', 'Freq_Of_Word_18', 'Freq_Of_Word_19', 'Freq_Of_Word_20', 'Freq_Of_Word_21', 'Freq_Of_Word_22', 'Freq_Of_Word_23', 'Freq_Of_Word_24', 'Freq_Of_Word_25', 'Freq_Of_Word_26', 'Freq_Of_Word_27', 'Freq_Of_Word_28', 'Freq_Of_Word_29', 'Freq_Of_Word_30', 'Freq_Of_Word_31', 'Freq_Of_Word_33', 'Freq_Of_Word_35', 'Freq_Of_Word_36', 'Freq_Of_Word_37', 'Freq_Of_Word_38', 'Freq_Of_Word_39', 'Freq_Of_Word_41', 'Freq_Of_Word_42', 'Freq_Of_Word_43', 'Freq_Of_Word_44', 'Freq_Of_Word_45', 'Freq_Of_Word_46', 'Freq_Of_Word_47', 'Freq_Of_Word_48', 'Freq_Of_Word_49', 'Freq_Of_Word_50', 'TotalEmojiCharacters', 'LengthOFFirstParagraph', 'StylizedLetters'] ['Freq_Of_Word_1', 'Freq_Of_Word_2', 'Freq_Of_Word_3', 'Freq_Of_Word_4', 'Freq_Of_Word_5', 'Freq_Of_Word_6', 'Freq_Of_Word_7', 'Freq_Of_Word_8', 'Freq_Of_Word_9', 'Freq_Of_Word_10', 'Freq_Of_Word_11', 'Freq_Of_Word_12', 'Freq_Of_Word_13', 'Freq_Of_Word_14', 'Freq_Of_Word_15', 'Freq_Of_Word_16', 'Freq_Of_Word_17', 'Freq_Of_Word_18', 'Freq_Of_Word_19', 'Freq_Of_Word_20', 'Freq_Of_Word_21', 'Freq_Of_Word_22', 'Freq_Of_Word_23', 'Freq_Of_Word_24', 'Freq_Of_Word_25', 'Freq_Of_Word_26', 'Freq_Of_Word_27', 'Freq_Of_Word_28', 'Freq_Of_Word_29', 'Freq_Of_Word_30', 'Freq_Of_Word_31', 'Freq_Of_Word_33', 'Freq_Of_Word_35', 'Freq_Of_Word_36', 'Freq_Of_Word_37', 'Freq_Of_Word_38', 'Freq_Of_Word_39', 'Freq_Of_Word_41', 'Freq_Of_Word_42', 'Freq_Of_Word_43', 'Freq_Of_Word_44', 'Freq_Of_Word_45', 'Freq_Of_Word_46', 'Freq_Of_Word_47', 'Freq_Of_Word_48', 'Freq_Of_Word_49', 'Freq_Of_Word_50', 'TotalEmojiCharacters', 'LengthOFFirstParagraph', 'StylizedLetters', 'IsGoodNews']\ntraining data did not have the following fields: IsGoodNews"
     ]
    }
   ],
   "source": [
    "score=round(rf.score(X_test, Y_test) * 100, 2)"
   ]
  },
  {
   "cell_type": "code",
   "execution_count": 220,
   "metadata": {},
   "outputs": [],
   "source": [
    "#print('Random Forests roc-auc: {}'.format(roc_auc_score(Y_test, pred[:,1])))"
   ]
  },
  {
   "cell_type": "code",
   "execution_count": null,
   "metadata": {},
   "outputs": [],
   "source": []
  },
  {
   "cell_type": "code",
   "execution_count": 208,
   "metadata": {},
   "outputs": [],
   "source": [
    "#"
   ]
  },
  {
   "cell_type": "code",
   "execution_count": 656,
   "metadata": {
    "scrolled": true
   },
   "outputs": [],
   "source": [
    "##SUbmission\n",
    "\n",
    "# y\n",
    "pred = rf.predict(df_test.drop([\"IsGoodNews\"],axis=1))\n",
    "submission=pd.DataFrame(pred,columns=[\"IsGoodNews\"])\n",
    "submission.to_excel(\"submission.xlsx\")"
   ]
  },
  {
   "cell_type": "code",
   "execution_count": null,
   "metadata": {},
   "outputs": [],
   "source": []
  }
 ],
 "metadata": {
  "kernelspec": {
   "display_name": "Python 3",
   "language": "python",
   "name": "python3"
  },
  "language_info": {
   "codemirror_mode": {
    "name": "ipython",
    "version": 3
   },
   "file_extension": ".py",
   "mimetype": "text/x-python",
   "name": "python",
   "nbconvert_exporter": "python",
   "pygments_lexer": "ipython3",
   "version": "3.6.9"
  }
 },
 "nbformat": 4,
 "nbformat_minor": 2
}
